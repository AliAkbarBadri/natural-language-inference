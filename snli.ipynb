{
  "nbformat": 4,
  "nbformat_minor": 0,
  "metadata": {
    "colab": {
      "name": "tempo.ipynb",
      "provenance": [],
      "include_colab_link": true
    },
    "kernelspec": {
      "name": "python3",
      "display_name": "Python 3"
    }
  },
  "cells": [
    {
      "cell_type": "markdown",
      "metadata": {
        "id": "view-in-github",
        "colab_type": "text"
      },
      "source": [
        "<a href=\"https://colab.research.google.com/github/aliakbarbadri/natural-language-inference/blob/master/snli.ipynb\" target=\"_parent\"><img src=\"https://colab.research.google.com/assets/colab-badge.svg\" alt=\"Open In Colab\"/></a>"
      ]
    },
    {
      "cell_type": "code",
      "metadata": {
        "id": "nF-7m57sBgdp",
        "colab_type": "code",
        "colab": {}
      },
      "source": [
        "import tensorflow as tf\n",
        "import tensorflow_datasets as tfds\n",
        "from tensorflow import keras"
      ],
      "execution_count": 1,
      "outputs": []
    },
    {
      "cell_type": "markdown",
      "metadata": {
        "id": "o7rnAUaISbK8",
        "colab_type": "text"
      },
      "source": [
        "https://www.tensorflow.org/datasets/catalog/snli\n"
      ]
    },
    {
      "cell_type": "code",
      "metadata": {
        "id": "bWeh9G4iRlCC",
        "colab_type": "code",
        "colab": {}
      },
      "source": [
        "ds = tfds.load('snli')"
      ],
      "execution_count": 10,
      "outputs": []
    },
    {
      "cell_type": "code",
      "metadata": {
        "id": "tJWwX25STJVs",
        "colab_type": "code",
        "colab": {}
      },
      "source": [
        "train_ds = ds['train']\n",
        "valid_ds = ds['validation']\n",
        "test_ds = ds['test']\n",
        "# 0: entailment, 1: neutral, 2: contradiction , -1:-"
      ],
      "execution_count": 24,
      "outputs": []
    },
    {
      "cell_type": "code",
      "metadata": {
        "id": "7e0L1NKWR9lD",
        "colab_type": "code",
        "colab": {
          "base_uri": "https://localhost:8080/",
          "height": 527
        },
        "outputId": "ca3ac195-0094-4a2c-c3d6-9c5b4b001dc1"
      },
      "source": [
        "for example in train_ds.take(40):\n",
        "  hypothesis, label, premise = example[\"hypothesis\"], example[\"label\"], example[\"premise\"]\n",
        "  if int(label) == 0:\n",
        "    print(hypothesis)\n",
        "    # print(label)\n",
        "    print(premise)\n",
        "    print(\"--------\")"
      ],
      "execution_count": 25,
      "outputs": [
        {
          "output_type": "stream",
          "text": [
            "tf.Tensor(b'There are motorcycles in a lot.', shape=(), dtype=string)\n",
            "tf.Tensor(b'A group of motorcycles and scooters are parked together in a lot in the middle of a street.', shape=(), dtype=string)\n",
            "--------\n",
            "tf.Tensor(b'A protester is pregnant', shape=(), dtype=string)\n",
            "tf.Tensor(b'A pregnant protester holding up a pro-America sign.', shape=(), dtype=string)\n",
            "--------\n",
            "tf.Tensor(b'There are people with boxed displays.', shape=(), dtype=string)\n",
            "tf.Tensor(b'Asian people sit with their boxed display of brown items.', shape=(), dtype=string)\n",
            "--------\n",
            "tf.Tensor(b'A boy and man are cooking meat.', shape=(), dtype=string)\n",
            "tf.Tensor(b'At a street festival, a boy and a man cook some sort of \"Texas Smoked\" meat while pedestrians pass by.', shape=(), dtype=string)\n",
            "--------\n",
            "tf.Tensor(b'There are multiple people present.', shape=(), dtype=string)\n",
            "tf.Tensor(b'A group of men in reflective gear are holding light sticks while standing on a wooden floor that has outdoor lighting.', shape=(), dtype=string)\n",
            "--------\n",
            "tf.Tensor(b'Four people are walking outside.', shape=(), dtype=string)\n",
            "tf.Tensor(b'Four people walking single file next to a large brick building.', shape=(), dtype=string)\n",
            "--------\n",
            "tf.Tensor(b'There is a man wearing a jacket', shape=(), dtype=string)\n",
            "tf.Tensor(b'A man in a jacket depicting the Canadian maple leaf watches a concert.', shape=(), dtype=string)\n",
            "--------\n",
            "tf.Tensor(b'A girl is blond', shape=(), dtype=string)\n",
            "tf.Tensor(b'Young blond girl in blue jeans falls back on bed while another child looks on.', shape=(), dtype=string)\n",
            "--------\n",
            "tf.Tensor(b'there is a man windsurfing', shape=(), dtype=string)\n",
            "tf.Tensor(b'Man wearing black is windsurfing.', shape=(), dtype=string)\n",
            "--------\n",
            "tf.Tensor(b'Soccer players resting.', shape=(), dtype=string)\n",
            "tf.Tensor(b'Two men in blue soccer uniforms look like they are at rest.', shape=(), dtype=string)\n",
            "--------\n"
          ],
          "name": "stdout"
        }
      ]
    }
  ]
}