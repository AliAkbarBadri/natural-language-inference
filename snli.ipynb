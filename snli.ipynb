{
  "nbformat": 4,
  "nbformat_minor": 0,
  "metadata": {
    "colab": {
      "name": "Copy of tempo.ipynb",
      "provenance": [],
      "toc_visible": true,
      "include_colab_link": true
    },
    "kernelspec": {
      "name": "python3",
      "display_name": "Python 3"
    },
    "accelerator": "GPU"
  },
  "cells": [
    {
      "cell_type": "markdown",
      "metadata": {
        "id": "view-in-github",
        "colab_type": "text"
      },
      "source": [
        "<a href=\"https://colab.research.google.com/github/aliakbarbadri/natural-language-inference/blob/master/snli.ipynb\" target=\"_parent\"><img src=\"https://colab.research.google.com/assets/colab-badge.svg\" alt=\"Open In Colab\"/></a>"
      ]
    },
    {
      "cell_type": "code",
      "metadata": {
        "id": "nF-7m57sBgdp",
        "colab_type": "code",
        "colab": {}
      },
      "source": [
        "import tensorflow as tf\n",
        "import numpy as np\n",
        "import unicodedata\n",
        "import re\n",
        "import matplotlib.pyplot as plt\n",
        "import pandas as pd\n",
        "import os\n",
        "import imageio"
      ],
      "execution_count": 1,
      "outputs": []
    },
    {
      "cell_type": "markdown",
      "metadata": {
        "id": "rSNRMGfComKc",
        "colab_type": "text"
      },
      "source": [
        "# Load and preprocess the data"
      ]
    },
    {
      "cell_type": "code",
      "metadata": {
        "id": "J7RsBuPdxU83",
        "colab_type": "code",
        "colab": {}
      },
      "source": [
        "BATCH_SIZE = 64"
      ],
      "execution_count": 2,
      "outputs": []
    },
    {
      "cell_type": "code",
      "metadata": {
        "id": "bWeh9G4iRlCC",
        "colab_type": "code",
        "colab": {}
      },
      "source": [
        "source = pd.read_pickle(r'https://github.com/aliakbarbadri/natural-language-inference/blob/master/premises_train.pickle?raw=true')\n",
        "target = pd.read_pickle(r'https://github.com/aliakbarbadri/natural-language-inference/blob/master/hypotheses_train.pickle?raw=true')"
      ],
      "execution_count": 3,
      "outputs": []
    },
    {
      "cell_type": "code",
      "metadata": {
        "id": "tJWwX25STJVs",
        "colab_type": "code",
        "colab": {
          "base_uri": "https://localhost:8080/",
          "height": 51
        },
        "outputId": "12cca0b1-96f3-4f70-cf04-8f9a4512862c"
      },
      "source": [
        "print(source[0])\n",
        "print(target[0])"
      ],
      "execution_count": 4,
      "outputs": [
        {
          "output_type": "stream",
          "text": [
            "A person on a horse jumps over a broken down airplane .\n",
            "A person is outdoors , on a horse .\n"
          ],
          "name": "stdout"
        }
      ]
    },
    {
      "cell_type": "code",
      "metadata": {
        "id": "OCLtsoYAx8b-",
        "colab_type": "code",
        "colab": {}
      },
      "source": [
        "src = source[:50000]\n",
        "trg = target[:50000]"
      ],
      "execution_count": 5,
      "outputs": []
    },
    {
      "cell_type": "code",
      "metadata": {
        "id": "oBXfaIKjwAmQ",
        "colab_type": "code",
        "colab": {}
      },
      "source": [
        "def unicode_to_ascii(s):\n",
        "    return ''.join(\n",
        "        c for c in unicodedata.normalize('NFD', s)\n",
        "        if unicodedata.category(c) != 'Mn'\n",
        "    )\n",
        "\n",
        "def normalize_string(s):\n",
        "    s = unicode_to_ascii(s)\n",
        "    s = re.sub(r'([!.?])', r' \\1', s)\n",
        "    s = re.sub(r'[^a-zA-Z.!?]+', r' ', s)\n",
        "    s = re.sub(r'\\s+', r' ', s)\n",
        "    return s"
      ],
      "execution_count": 6,
      "outputs": []
    },
    {
      "cell_type": "code",
      "metadata": {
        "id": "ZCZns_O0xiXS",
        "colab_type": "code",
        "colab": {}
      },
      "source": [
        "raw_data_src = [normalize_string(data) for data in src]\n",
        "raw_data_trg_in = ['<start> ' + normalize_string(data) for data in trg]\n",
        "raw_data_trg_out = [normalize_string(data) + ' <end>' for data in trg]"
      ],
      "execution_count": 7,
      "outputs": []
    },
    {
      "cell_type": "code",
      "metadata": {
        "id": "nMyMHDln3Lkn",
        "colab_type": "code",
        "colab": {
          "base_uri": "https://localhost:8080/",
          "height": 221
        },
        "outputId": "117bacd6-7724-432c-d46c-538038b3cc3e"
      },
      "source": [
        "src_tokenizer = tf.keras.preprocessing.text.Tokenizer(filters='')\n",
        "src_tokenizer.fit_on_texts(raw_data_src)\n",
        "data_src = src_tokenizer.texts_to_sequences(raw_data_src)\n",
        "data_src = tf.keras.preprocessing.sequence.pad_sequences(data_src,\n",
        "                                                        padding='post')\n",
        "print(data_src[:2])"
      ],
      "execution_count": 8,
      "outputs": [
        {
          "output_type": "stream",
          "text": [
            "[[   1   55    6    1  212  206   68    1 1593   40  782    2    0    0\n",
            "     0    0    0    0    0    0    0    0    0    0    0    0    0    0\n",
            "     0    0    0    0    0    0    0    0    0    0    0    0    0    0\n",
            "     0    0    0    0    0    0    0    0    0    0    0    0    0    0\n",
            "     0    0    0    0    0    0    0    0    0    0    0    0    0    0\n",
            "     0    0    0    0    0    0    0    0    0]\n",
            " [  58  140    5 1115   18  100    0    0    0    0    0    0    0    0\n",
            "     0    0    0    0    0    0    0    0    0    0    0    0    0    0\n",
            "     0    0    0    0    0    0    0    0    0    0    0    0    0    0\n",
            "     0    0    0    0    0    0    0    0    0    0    0    0    0    0\n",
            "     0    0    0    0    0    0    0    0    0    0    0    0    0    0\n",
            "     0    0    0    0    0    0    0    0    0]]\n"
          ],
          "name": "stdout"
        }
      ]
    },
    {
      "cell_type": "code",
      "metadata": {
        "id": "1No4Dlqy1T--",
        "colab_type": "code",
        "colab": {
          "base_uri": "https://localhost:8080/",
          "height": 221
        },
        "outputId": "8cd75cfc-6014-4f30-db8a-2a79cd4c770d"
      },
      "source": [
        "trg_tokenizer = tf.keras.preprocessing.text.Tokenizer(filters='')\n",
        "trg_tokenizer.fit_on_texts(raw_data_trg_in)\n",
        "trg_tokenizer.fit_on_texts(raw_data_trg_out)\n",
        "data_trg_in = trg_tokenizer.texts_to_sequences(raw_data_trg_in)\n",
        "data_trg_in = tf.keras.preprocessing.sequence.pad_sequences(data_trg_in,\n",
        "                                                           padding='post')\n",
        "print(data_trg_in[:2])\n",
        "\n",
        "data_trg_out = trg_tokenizer.texts_to_sequences(raw_data_trg_out)\n",
        "data_trg_out = tf.keras.preprocessing.sequence.pad_sequences(data_trg_out,\n",
        "                                                            padding='post')\n",
        "print(data_trg_out[:2])"
      ],
      "execution_count": 9,
      "outputs": [
        {
          "output_type": "stream",
          "text": [
            "[[  3   1  19   5  34  11   1 163   2   0   0   0   0   0   0   0   0   0\n",
            "    0   0   0   0   0   0   0   0   0   0   0   0   0   0   0   0   0   0\n",
            "    0   0   0   0   0   0   0   0]\n",
            " [  3  15   7  44 454   0   0   0   0   0   0   0   0   0   0   0   0   0\n",
            "    0   0   0   0   0   0   0   0   0   0   0   0   0   0   0   0   0   0\n",
            "    0   0   0   0   0   0   0   0]]\n",
            "[[  1  19   5  34  11   1 163   2   4   0   0   0   0   0   0   0   0   0\n",
            "    0   0   0   0   0   0   0   0   0   0   0   0   0   0   0   0   0   0\n",
            "    0   0   0   0   0   0   0   0]\n",
            " [ 15   7  44 454   4   0   0   0   0   0   0   0   0   0   0   0   0   0\n",
            "    0   0   0   0   0   0   0   0   0   0   0   0   0   0   0   0   0   0\n",
            "    0   0   0   0   0   0   0   0]]\n"
          ],
          "name": "stdout"
        }
      ]
    },
    {
      "cell_type": "code",
      "metadata": {
        "id": "9O20z0Pk3Sdc",
        "colab_type": "code",
        "colab": {}
      },
      "source": [
        "dataset = tf.data.Dataset.from_tensor_slices(\n",
        "    (data_src, data_trg_in, data_trg_out))\n",
        "dataset = dataset.shuffle(len(raw_data_src)).batch(\n",
        "    BATCH_SIZE, drop_remainder=True)"
      ],
      "execution_count": 10,
      "outputs": []
    },
    {
      "cell_type": "markdown",
      "metadata": {
        "id": "gargkY3E0X1W",
        "colab_type": "text"
      },
      "source": [
        "# Model"
      ]
    },
    {
      "cell_type": "code",
      "metadata": {
        "id": "eXtZ1itmLACh",
        "colab_type": "code",
        "colab": {}
      },
      "source": [
        "MODE = 'train'\n",
        "EMBEDDING_SIZE = 256\n",
        "RNN_SIZE = 512\n",
        "NUM_EPOCHS = 40"
      ],
      "execution_count": 25,
      "outputs": []
    },
    {
      "cell_type": "code",
      "metadata": {
        "id": "2l9Txu4RgX7w",
        "colab_type": "code",
        "colab": {}
      },
      "source": [
        "class Encoder(tf.keras.Model):\n",
        "  def __init__(self, vocab_size, embedding_size, rnn_size):\n",
        "    super(Encoder, self).__init__()\n",
        "    self.rnn_size = rnn_size\n",
        "    self.embedding = tf.keras.layers.Embedding(vocab_size, embedding_size)\n",
        "    self.lstm = tf.keras.layers.LSTM(rnn_size, return_sequences=True, return_state=True)\n",
        "  def call(self, sequence, states):\n",
        "    embed = self.embedding(sequence)\n",
        "    output, state_h, state_c = self.lstm(embed, initial_state=states)\n",
        "    return output, state_h, state_c\n",
        "  def init_states(self, batch_size):\n",
        "    return (tf.zeros([batch_size, self.rnn_size]),\n",
        "    tf.zeros([batch_size, self.rnn_size]))\n",
        "\n",
        "src_vocab_size = len(src_tokenizer.word_index) + 1\n",
        "encoder = Encoder(src_vocab_size, EMBEDDING_SIZE, RNN_SIZE)\n",
        "initial_state = encoder.init_states(1)"
      ],
      "execution_count": 26,
      "outputs": []
    },
    {
      "cell_type": "code",
      "metadata": {
        "id": "amFMhvO0-fZm",
        "colab_type": "code",
        "colab": {}
      },
      "source": [
        "class LuongAttention(tf.keras.Model):\n",
        "  def __init__(self, rnn_size):\n",
        "    super(LuongAttention, self).__init__()\n",
        "    # Concat score function\n",
        "    self.wa = tf.keras.layers.Dense(rnn_size, activation='tanh')\n",
        "    self.va = tf.keras.layers.Dense(1)\n",
        "  def call(self, decoder_output, encoder_output):\n",
        "    # Concat score function: va (dot) tanh(Wa (dot) concat(decoder_output + encoder_output))\n",
        "    # Decoder output must be broadcasted to encoder output's shape first\n",
        "    decoder_output = tf.tile(\n",
        "    decoder_output, [1, encoder_output.shape[1], 1])\n",
        "    # Concat => Wa => va\n",
        "    # (batch_size, max_len, 2 * rnn_size) => (batch_size, max_len, rnn_size) => (batch_size, max_len, 1)\n",
        "    score = self.va(self.wa(tf.concat((decoder_output, encoder_output), axis=-1)))\n",
        "    # Transpose score vector to have the same shape as other two above\n",
        "    # (batch_size, max_len, 1) => (batch_size, 1, max_len)\n",
        "    score = tf.transpose(score, [0, 2, 1])\n",
        "    # alignment a_t = softmax(score)\n",
        "    alignment = tf.nn.softmax(score, axis=2)\n",
        "    # context vector c_t is the weighted average sum of encoder output\n",
        "    context = tf.matmul(alignment, encoder_output)\n",
        "    return context, alignment"
      ],
      "execution_count": 27,
      "outputs": []
    },
    {
      "cell_type": "code",
      "metadata": {
        "id": "vkbglu6bwqwL",
        "colab_type": "code",
        "colab": {}
      },
      "source": [
        "class Decoder(tf.keras.Model):\n",
        "  def __init__(self, vocab_size, embedding_size, rnn_size):\n",
        "    super(Decoder, self).__init__()\n",
        "    self.attention = LuongAttention(rnn_size)\n",
        "    self.rnn_size = rnn_size\n",
        "    self.embedding = tf.keras.layers.Embedding(vocab_size, embedding_size)\n",
        "    self.lstm = tf.keras.layers.LSTM(\n",
        "    rnn_size, return_sequences=True, return_state=True)\n",
        "    self.wc = tf.keras.layers.Dense(rnn_size, activation='tanh')\n",
        "    self.ws = tf.keras.layers.Dense(vocab_size)\n",
        "  def call(self, sequence, state, encoder_output):\n",
        "    # Remember that the input to the decoder\n",
        "    # is now a batch of one-word sequences,\n",
        "    # which means that its shape is (batch_size, 1)\n",
        "    embed = self.embedding(sequence)\n",
        "    # Therefore, the lstm_out has shape (batch_size, 1, rnn_size)\n",
        "    lstm_out, state_h, state_c = self.lstm(embed, initial_state=state)\n",
        "    # Use self.attention to compute the context and alignment vectors\n",
        "    # context vector's shape: (batch_size, 1, rnn_size)\n",
        "    # alignment vector's shape: (batch_size, 1, source_length)\n",
        "    context, alignment = self.attention(lstm_out, encoder_output)\n",
        "    # Combine the context vector and the LSTM output\n",
        "    # Before combined, both have shape of (batch_size, 1, rnn_size),\n",
        "    # so let's squeeze the axis 1 first\n",
        "    # After combined, it will have shape of (batch_size, 2 * rnn_size)\n",
        "    lstm_out = tf.concat(\n",
        "                [tf.squeeze(context, 1), tf.squeeze(lstm_out, 1)], 1)\n",
        "    # lstm_out now has shape (batch_size, rnn_size)\n",
        "    lstm_out = self.wc(lstm_out)\n",
        "    # Finally, it is converted back to vocabulary space: (batch_size, vocab_size)\n",
        "    logits = self.ws(lstm_out)\n",
        "    return logits, state_h, state_c, alignment\n",
        "\n",
        "\n",
        "trg_vocab_size = len(trg_tokenizer.word_index) + 1\n",
        "decoder = Decoder(trg_vocab_size, EMBEDDING_SIZE, RNN_SIZE)"
      ],
      "execution_count": 28,
      "outputs": []
    },
    {
      "cell_type": "code",
      "metadata": {
        "id": "V1JbG-dL1PMM",
        "colab_type": "code",
        "colab": {}
      },
      "source": [
        "def loss_func(targets, logits):\n",
        "  crossentropy = tf.keras.losses.SparseCategoricalCrossentropy(from_logits=True)\n",
        "  mask = tf.math.logical_not(tf.math.equal(targets, 0))\n",
        "  mask = tf.cast(mask, dtype=tf.int64)\n",
        "  loss = crossentropy(targets, logits, sample_weight=mask)\n",
        "  return loss\n",
        "\n",
        "optimizer = tf.keras.optimizers.RMSprop()"
      ],
      "execution_count": 29,
      "outputs": []
    },
    {
      "cell_type": "code",
      "metadata": {
        "id": "xSyITCLEWKNQ",
        "colab_type": "code",
        "colab": {}
      },
      "source": [
        "accuracy = tf.keras.metrics.SparseCategoricalAccuracy()"
      ],
      "execution_count": 30,
      "outputs": []
    },
    {
      "cell_type": "code",
      "metadata": {
        "id": "p6S7CF0LEMio",
        "colab_type": "code",
        "colab": {}
      },
      "source": [
        "@tf.function\n",
        "def train_step(source_seq, target_seq_in, target_seq_out, en_initial_states):\n",
        "  loss = 0\n",
        "  acc = 0\n",
        "  with tf.GradientTape() as tape:\n",
        "    en_outputs = encoder(source_seq, en_initial_states)\n",
        "    en_states = en_outputs[1:]\n",
        "    de_state_h, de_state_c = en_states\n",
        "    \n",
        "    # We need to create a loop to iterate through the target sequences\n",
        "    for i in range(target_seq_out.shape[1]):\n",
        "      # Input to the decoder must have shape of (batch_size, length)\n",
        "      # so we need to expand one dimension\n",
        "      decoder_in = tf.expand_dims(target_seq_in[:, i], 1)\n",
        "      logit, de_state_h, de_state_c, _ = decoder(\n",
        "      decoder_in, (de_state_h, de_state_c), en_outputs[0])\n",
        "\n",
        "      # The loss is now accumulated through the whole batch\n",
        "      loss += loss_func(target_seq_out[:, i], logit)\n",
        "      accuracy.update_state(target_seq_out[:, i], logit)\n",
        "      # acc += acc_func(target_seq_out[:, i], logit)\n",
        "  # print(\"acc\",)\n",
        "  # print(acc / target_seq_out.shape[1])\n",
        "  variables = encoder.trainable_variables + decoder.trainable_variables\n",
        "  gradients = tape.gradient(loss, variables)\n",
        "  optimizer.apply_gradients(zip(gradients, variables))\n",
        "  return loss / target_seq_out.shape[1], accuracy.result()"
      ],
      "execution_count": 31,
      "outputs": []
    },
    {
      "cell_type": "code",
      "metadata": {
        "id": "dYQ2PCZBnsmC",
        "colab_type": "code",
        "colab": {
          "base_uri": "https://localhost:8080/",
          "height": 34
        },
        "outputId": "3c1adf74-6255-4dc5-bcff-e5003e97fbf5"
      },
      "source": [
        "from google.colab import drive\n",
        "drive.mount('/content/drive')"
      ],
      "execution_count": 32,
      "outputs": [
        {
          "output_type": "stream",
          "text": [
            "Drive already mounted at /content/drive; to attempt to forcibly remount, call drive.mount(\"/content/drive\", force_remount=True).\n"
          ],
          "name": "stdout"
        }
      ]
    },
    {
      "cell_type": "code",
      "metadata": {
        "id": "PgQbIxk5dWp5",
        "colab_type": "code",
        "colab": {}
      },
      "source": [
        "! rm -rf ./checkpoints\n",
        "! mkdir ./checkpoints\n",
        "! mkdir checkpoints/encoder\n",
        "! mkdir checkpoints/decoder"
      ],
      "execution_count": 33,
      "outputs": []
    },
    {
      "cell_type": "code",
      "metadata": {
        "id": "ywFdgY_XWn_k",
        "colab_type": "code",
        "colab": {}
      },
      "source": [
        "! ls checkpoints/decoder"
      ],
      "execution_count": 34,
      "outputs": []
    },
    {
      "cell_type": "code",
      "metadata": {
        "id": "STxOxYjw8u0y",
        "colab_type": "code",
        "colab": {}
      },
      "source": [
        "# train_dataset, test_dataset = train_test_split(dataset,test_size=0.2)\n",
        "# dataset.take(-1)\n",
        "all_loss = []\n",
        "all_acc = []"
      ],
      "execution_count": 35,
      "outputs": []
    },
    {
      "cell_type": "code",
      "metadata": {
        "id": "x3m9U_H_544G",
        "colab_type": "code",
        "colab": {
          "base_uri": "https://localhost:8080/",
          "height": 1000
        },
        "outputId": "34b83578-2943-423f-8a46-9b5766e7d9b4"
      },
      "source": [
        "if MODE == 'train':\n",
        "  loss_list = []\n",
        "  acc_list = []\n",
        "  for e in range(10):\n",
        "    en_initial_states = encoder.init_states(BATCH_SIZE)\n",
        "    encoder.save_weights('checkpoints/encoder/encoder_{}.h5'.format(e + 1))\n",
        "    decoder.save_weights('checkpoints/decoder/decoder_{}.h5'.format(e + 1))\n",
        "    loss = 0\n",
        "    acc = 0\n",
        "    counter = 0\n",
        "    for batch, (source_seq, target_seq_in, target_seq_out) in enumerate(dataset.take(-1)):\n",
        "      batch_loss, acc = train_step(source_seq, target_seq_in,target_seq_out, en_initial_states)\n",
        "      loss += batch_loss.numpy()\n",
        "      counter += 1\n",
        "      if batch % 100 == 0:\n",
        "        print('Epoch {}, Batch {}, Loss {:.4f} , Acc {:.4f}'.format(e + 1, batch, batch_loss.numpy(), acc.numpy()))\n",
        "\n",
        "    print('Epoch {}, Loss {:.4f} , Acc {:.4f}'.format(e + 1, loss/counter, acc.numpy()))\n",
        "    loss_list.append(loss/counter)\n",
        "    acc_list.append(acc.numpy())\n",
        "    print()\n",
        "  all_loss.append(loss_list)\n",
        "  all_acc.append(acc_list)"
      ],
      "execution_count": 36,
      "outputs": [
        {
          "output_type": "stream",
          "text": [
            "Epoch 1, Batch 0, Loss 1.6689 , Acc 0.0000\n",
            "Epoch 1, Batch 100, Loss 0.7521 , Acc 0.0512\n",
            "Epoch 1, Batch 200, Loss 0.7123 , Acc 0.0613\n",
            "Epoch 1, Batch 300, Loss 0.6600 , Acc 0.0665\n",
            "Epoch 1, Batch 400, Loss 0.5150 , Acc 0.0707\n",
            "Epoch 1, Batch 500, Loss 0.6349 , Acc 0.0734\n",
            "Epoch 1, Batch 600, Loss 0.5659 , Acc 0.0756\n",
            "Epoch 1, Batch 700, Loss 0.5920 , Acc 0.0773\n",
            "Epoch 1, Loss 0.6569 , Acc 0.0784\n",
            "\n",
            "Epoch 2, Batch 0, Loss 0.5441 , Acc 0.0784\n",
            "Epoch 2, Batch 100, Loss 0.6167 , Acc 0.0797\n",
            "Epoch 2, Batch 200, Loss 0.6336 , Acc 0.0809\n",
            "Epoch 2, Batch 300, Loss 0.4337 , Acc 0.0820\n",
            "Epoch 2, Batch 400, Loss 0.5257 , Acc 0.0830\n",
            "Epoch 2, Batch 500, Loss 0.4519 , Acc 0.0839\n",
            "Epoch 2, Batch 600, Loss 0.4805 , Acc 0.0848\n",
            "Epoch 2, Batch 700, Loss 0.4986 , Acc 0.0856\n",
            "Epoch 2, Loss 0.5341 , Acc 0.0863\n",
            "\n",
            "Epoch 3, Batch 0, Loss 0.4310 , Acc 0.0863\n",
            "Epoch 3, Batch 100, Loss 0.5580 , Acc 0.0870\n",
            "Epoch 3, Batch 200, Loss 0.4813 , Acc 0.0878\n",
            "Epoch 3, Batch 300, Loss 0.4873 , Acc 0.0885\n",
            "Epoch 3, Batch 400, Loss 0.4735 , Acc 0.0892\n",
            "Epoch 3, Batch 500, Loss 0.5685 , Acc 0.0897\n",
            "Epoch 3, Batch 600, Loss 0.3888 , Acc 0.0903\n",
            "Epoch 3, Batch 700, Loss 0.4889 , Acc 0.0908\n",
            "Epoch 3, Loss 0.4816 , Acc 0.0912\n",
            "\n",
            "Epoch 4, Batch 0, Loss 0.5275 , Acc 0.0912\n",
            "Epoch 4, Batch 100, Loss 0.4515 , Acc 0.0918\n",
            "Epoch 4, Batch 200, Loss 0.5167 , Acc 0.0923\n",
            "Epoch 4, Batch 300, Loss 0.3905 , Acc 0.0928\n",
            "Epoch 4, Batch 400, Loss 0.4220 , Acc 0.0932\n",
            "Epoch 4, Batch 500, Loss 0.4197 , Acc 0.0937\n",
            "Epoch 4, Batch 600, Loss 0.4380 , Acc 0.0941\n",
            "Epoch 4, Batch 700, Loss 0.4266 , Acc 0.0945\n",
            "Epoch 4, Loss 0.4470 , Acc 0.0948\n",
            "\n",
            "Epoch 5, Batch 0, Loss 0.3920 , Acc 0.0948\n",
            "Epoch 5, Batch 100, Loss 0.4464 , Acc 0.0952\n",
            "Epoch 5, Batch 200, Loss 0.4219 , Acc 0.0956\n",
            "Epoch 5, Batch 300, Loss 0.4019 , Acc 0.0960\n",
            "Epoch 5, Batch 400, Loss 0.4096 , Acc 0.0964\n",
            "Epoch 5, Batch 500, Loss 0.4040 , Acc 0.0967\n",
            "Epoch 5, Batch 600, Loss 0.3453 , Acc 0.0971\n",
            "Epoch 5, Batch 700, Loss 0.3778 , Acc 0.0974\n",
            "Epoch 5, Loss 0.4202 , Acc 0.0976\n",
            "\n",
            "Epoch 6, Batch 0, Loss 0.3469 , Acc 0.0976\n",
            "Epoch 6, Batch 100, Loss 0.3451 , Acc 0.0980\n",
            "Epoch 6, Batch 200, Loss 0.4649 , Acc 0.0983\n",
            "Epoch 6, Batch 300, Loss 0.4001 , Acc 0.0986\n",
            "Epoch 6, Batch 400, Loss 0.3380 , Acc 0.0989\n",
            "Epoch 6, Batch 500, Loss 0.4248 , Acc 0.0992\n",
            "Epoch 6, Batch 600, Loss 0.4196 , Acc 0.0995\n",
            "Epoch 6, Batch 700, Loss 0.4120 , Acc 0.0998\n",
            "Epoch 6, Loss 0.3966 , Acc 0.1000\n",
            "\n",
            "Epoch 7, Batch 0, Loss 0.3513 , Acc 0.1000\n",
            "Epoch 7, Batch 100, Loss 0.3243 , Acc 0.1003\n",
            "Epoch 7, Batch 200, Loss 0.3654 , Acc 0.1006\n",
            "Epoch 7, Batch 300, Loss 0.3232 , Acc 0.1010\n",
            "Epoch 7, Batch 400, Loss 0.3421 , Acc 0.1012\n",
            "Epoch 7, Batch 500, Loss 0.3813 , Acc 0.1015\n",
            "Epoch 7, Batch 600, Loss 0.4173 , Acc 0.1017\n",
            "Epoch 7, Batch 700, Loss 0.3610 , Acc 0.1020\n",
            "Epoch 7, Loss 0.3751 , Acc 0.1021\n",
            "\n",
            "Epoch 8, Batch 0, Loss 0.2977 , Acc 0.1021\n",
            "Epoch 8, Batch 100, Loss 0.3307 , Acc 0.1024\n",
            "Epoch 8, Batch 200, Loss 0.3496 , Acc 0.1028\n",
            "Epoch 8, Batch 300, Loss 0.3262 , Acc 0.1030\n",
            "Epoch 8, Batch 400, Loss 0.2925 , Acc 0.1033\n",
            "Epoch 8, Batch 500, Loss 0.3561 , Acc 0.1036\n",
            "Epoch 8, Batch 600, Loss 0.3226 , Acc 0.1038\n",
            "Epoch 8, Batch 700, Loss 0.3379 , Acc 0.1040\n",
            "Epoch 8, Loss 0.3566 , Acc 0.1042\n",
            "\n",
            "Epoch 9, Batch 0, Loss 0.4081 , Acc 0.1042\n",
            "Epoch 9, Batch 100, Loss 0.3736 , Acc 0.1045\n",
            "Epoch 9, Batch 200, Loss 0.3390 , Acc 0.1048\n",
            "Epoch 9, Batch 300, Loss 0.2754 , Acc 0.1051\n",
            "Epoch 9, Batch 400, Loss 0.3529 , Acc 0.1053\n",
            "Epoch 9, Batch 500, Loss 0.3684 , Acc 0.1056\n",
            "Epoch 9, Batch 600, Loss 0.3169 , Acc 0.1058\n",
            "Epoch 9, Batch 700, Loss 0.2654 , Acc 0.1060\n",
            "Epoch 9, Loss 0.3410 , Acc 0.1062\n",
            "\n",
            "Epoch 10, Batch 0, Loss 0.3506 , Acc 0.1062\n",
            "Epoch 10, Batch 100, Loss 0.3099 , Acc 0.1065\n",
            "Epoch 10, Batch 200, Loss 0.3029 , Acc 0.1068\n",
            "Epoch 10, Batch 300, Loss 0.2971 , Acc 0.1071\n",
            "Epoch 10, Batch 400, Loss 0.3567 , Acc 0.1073\n",
            "Epoch 10, Batch 500, Loss 0.3747 , Acc 0.1075\n",
            "Epoch 10, Batch 600, Loss 0.3010 , Acc 0.1078\n",
            "Epoch 10, Batch 700, Loss 0.3112 , Acc 0.1080\n",
            "Epoch 10, Loss 0.3265 , Acc 0.1082\n",
            "\n"
          ],
          "name": "stdout"
        }
      ]
    },
    {
      "cell_type": "code",
      "metadata": {
        "id": "TYsleTuyPdMj",
        "colab_type": "code",
        "colab": {
          "base_uri": "https://localhost:8080/",
          "height": 187
        },
        "outputId": "b30315ed-fd37-4edb-ec6c-01cb1b7ba67d"
      },
      "source": [
        "all_loss"
      ],
      "execution_count": 37,
      "outputs": [
        {
          "output_type": "execute_result",
          "data": {
            "text/plain": [
              "[[0.656902540851952,\n",
              "  0.5341033801989732,\n",
              "  0.4816383744629336,\n",
              "  0.4470475309942199,\n",
              "  0.4201852660936216,\n",
              "  0.39655574198416343,\n",
              "  0.3750998747562477,\n",
              "  0.35663822484077473,\n",
              "  0.34100240923073166,\n",
              "  0.3265157805209581]]"
            ]
          },
          "metadata": {
            "tags": []
          },
          "execution_count": 37
        }
      ]
    },
    {
      "cell_type": "code",
      "metadata": {
        "id": "0RAQJr80V3Tu",
        "colab_type": "code",
        "colab": {
          "base_uri": "https://localhost:8080/",
          "height": 187
        },
        "outputId": "e60e444c-6633-4b07-dad8-b92673eddb80"
      },
      "source": [
        "all_acc"
      ],
      "execution_count": 38,
      "outputs": [
        {
          "output_type": "execute_result",
          "data": {
            "text/plain": [
              "[[0.07843419,\n",
              "  0.08627511,\n",
              "  0.09122889,\n",
              "  0.09477078,\n",
              "  0.09756586,\n",
              "  0.09996214,\n",
              "  0.10212781,\n",
              "  0.10418556,\n",
              "  0.10618292,\n",
              "  0.1081537]]"
            ]
          },
          "metadata": {
            "tags": []
          },
          "execution_count": 38
        }
      ]
    },
    {
      "cell_type": "code",
      "metadata": {
        "id": "uXQ2uUeuOtzX",
        "colab_type": "code",
        "colab": {
          "base_uri": "https://localhost:8080/",
          "height": 483
        },
        "outputId": "4926698d-c70e-495f-d928-7ffc1a5abbf8"
      },
      "source": [
        "pd.DataFrame({'loss':np.array(all_loss).flatten(),\n",
        "              # 'valid_loss':history.history['val_loss'],\n",
        "              }).plot(figsize=(8, 8))\n",
        "plt.grid(True)"
      ],
      "execution_count": 39,
      "outputs": [
        {
          "output_type": "display_data",
          "data": {
            "image/png": "[encoded data removed]",
            "text/plain": [
              "<Figure size 576x576 with 1 Axes>"
            ]
          },
          "metadata": {
            "tags": [],
            "needs_background": "light"
          }
        }
      ]
    },
    {
      "cell_type": "code",
      "metadata": {
        "id": "6EDDuBA-SjGB",
        "colab_type": "code",
        "colab": {
          "base_uri": "https://localhost:8080/",
          "height": 483
        },
        "outputId": "9c669596-979c-47b9-8d74-bcd6508852cb"
      },
      "source": [
        "pd.DataFrame({'acc':np.array(acc_list).flatten(),\n",
        "              # 'valid_loss':history.history['val_loss'],\n",
        "              }).plot(figsize=(8, 8))\n",
        "plt.grid(True)"
      ],
      "execution_count": 40,
      "outputs": [
        {
          "output_type": "display_data",
          "data": {
            "image/png": "[encoded data removed]",
            "text/plain": [
              "<Figure size 576x576 with 1 Axes>"
            ]
          },
          "metadata": {
            "tags": [],
            "needs_background": "light"
          }
        }
      ]
    },
    {
      "cell_type": "code",
      "metadata": {
        "id": "PdegF4MGlpRO",
        "colab_type": "code",
        "colab": {}
      },
      "source": [
        "! rm -rf \"/content/drive/My Drive/nn/checkpoints/\"\n",
        "! cp -r checkpoints \"/content/drive/My Drive/nn/\""
      ],
      "execution_count": 41,
      "outputs": []
    },
    {
      "cell_type": "markdown",
      "metadata": {
        "id": "zCrKZlE50RFI",
        "colab_type": "text"
      },
      "source": [
        "# Infrence"
      ]
    },
    {
      "cell_type": "code",
      "metadata": {
        "id": "gh-3NDeI5nwR",
        "colab_type": "code",
        "colab": {
          "base_uri": "https://localhost:8080/",
          "height": 51
        },
        "outputId": "a48a7cd1-046f-4db2-d28b-cc1297e901c8"
      },
      "source": [
        "! ls \"/content/drive/My Drive/nn/checkpoints/encoder\""
      ],
      "execution_count": 42,
      "outputs": [
        {
          "output_type": "stream",
          "text": [
            "encoder_10.h5  encoder_2.h5  encoder_4.h5  encoder_6.h5  encoder_8.h5\n",
            "encoder_1.h5   encoder_3.h5  encoder_5.h5  encoder_7.h5  encoder_9.h5\n"
          ],
          "name": "stdout"
        }
      ]
    },
    {
      "cell_type": "code",
      "metadata": {
        "id": "B6AtT0_qPdoJ",
        "colab_type": "code",
        "colab": {}
      },
      "source": [
        "encoder.load_weights(\"/content/drive/My Drive/nn/checkpoints/encoder/encoder_20.h5\")\n",
        "decoder.load_weights(\"/content/drive/My Drive/nn/checkpoints/decoder/decoder_20.h5\")"
      ],
      "execution_count": null,
      "outputs": []
    },
    {
      "cell_type": "code",
      "metadata": {
        "id": "pV7vbW8RDvm_",
        "colab_type": "code",
        "colab": {}
      },
      "source": [
        "def predict(test_source_text=None):\n",
        "  if test_source_text is None:\n",
        "    test_source_text = raw_data_en[np.random.choice(len(raw_data_en))]\n",
        "    print(test_source_text)\n",
        "  test_source_seq = src_tokenizer.texts_to_sequences([test_source_text])\n",
        "  # print(test_source_seq)\n",
        "  \n",
        "  en_initial_states = encoder.init_states(1)\n",
        "  en_outputs = encoder(tf.constant(test_source_seq), en_initial_states)\n",
        "  \n",
        "  de_input = tf.constant([[trg_tokenizer.word_index['<start>']]])\n",
        "  de_state_h, de_state_c = en_outputs[1:]\n",
        "  out_words = []\n",
        "  alignments = []\n",
        "  \n",
        "  while True:\n",
        "    de_output, de_state_h, de_state_c, alignment = decoder(de_input, (de_state_h, de_state_c), en_outputs[0])\n",
        "    de_input = tf.expand_dims(tf.argmax(de_output, -1), 0)\n",
        "    out_words.append(trg_tokenizer.index_word[de_input.numpy()[0][0]])\n",
        "    alignments.append(alignment.numpy())\n",
        "    \n",
        "    if out_words[-1] == '<end>' or len(out_words) >= 20:\n",
        "      break\n",
        "  return np.array(alignments), test_source_text.split(' '), out_words"
      ],
      "execution_count": 43,
      "outputs": []
    },
    {
      "cell_type": "code",
      "metadata": {
        "id": "uMLUNLAboj6d",
        "colab_type": "code",
        "colab": {}
      },
      "source": [
        "inp = pd.read_pickle(r'https://github.com/aliakbarbadri/natural-language-inference/blob/master/premises_train.pickle?raw=true')\n",
        "outp = pd.read_pickle(r'https://github.com/aliakbarbadri/natural-language-inference/blob/master/hypotheses_train.pickle?raw=true')"
      ],
      "execution_count": 44,
      "outputs": []
    },
    {
      "cell_type": "code",
      "metadata": {
        "id": "bu2G4h9M6QQK",
        "colab_type": "code",
        "colab": {}
      },
      "source": [
        "test_src_sents = inp[-5:]\n",
        "test_trg_sents = outp[-5:]"
      ],
      "execution_count": 45,
      "outputs": []
    },
    {
      "cell_type": "code",
      "metadata": {
        "id": "Dvac97e0oZKb",
        "colab_type": "code",
        "colab": {
          "base_uri": "https://localhost:8080/",
          "height": 34
        },
        "outputId": "9182971e-4ddd-4a75-d322-9068b83ac1e5"
      },
      "source": [
        "len(test_src_sents),test_src_sents[0]"
      ],
      "execution_count": 46,
      "outputs": [
        {
          "output_type": "execute_result",
          "data": {
            "text/plain": [
              "(5, 'A group of four kids stand in front of a statue of a large animal .')"
            ]
          },
          "metadata": {
            "tags": []
          },
          "execution_count": 46
        }
      ]
    },
    {
      "cell_type": "code",
      "metadata": {
        "id": "TdICR7A9Gt9z",
        "colab_type": "code",
        "colab": {
          "base_uri": "https://localhost:8080/",
          "height": 357
        },
        "outputId": "bef0b818-50d7-4cf9-ecf1-b2cd4e124dfa"
      },
      "source": [
        "! rm -rf heatmap/\n",
        "! mkdir heatmap\n",
        "filenames = []\n",
        "for i, test_sent in enumerate(test_src_sents):\n",
        "  \n",
        "  test_sequence = normalize_string(test_sent)\n",
        "  alignments, source, prediction = predict(test_sequence)\n",
        "  print(\"input:\",test_sent)\n",
        "  print(\"actual:\",test_trg_sents[i])\n",
        "  print(\"predicted:\",' '.join(prediction)[:-6])\n",
        "  print(\"---------\")\n",
        "  attention = np.squeeze(alignments, (1, 2))\n",
        "  fig = plt.figure(figsize=(10, 10))\n",
        "  fig.show()\n",
        "  ax = fig.add_subplot(1, 1, 1)\n",
        "  ax.matshow(attention, cmap='jet')\n",
        "  ax.set_xticklabels([''] + source, rotation=90)\n",
        "  ax.set_yticklabels([''] + prediction)\n",
        "  filenames.append('heatmap/test_{}.png'.format(i))\n",
        "  plt.savefig('heatmap/test_{}.png'.format(i))\n",
        "  plt.close()"
      ],
      "execution_count": 47,
      "outputs": [
        {
          "output_type": "stream",
          "text": [
            "input: A group of four kids stand in front of a statue of a large animal .\n",
            "actual: four kids standing\n",
            "predicted: a group of kids are standing by a large large large large large large large animal .\n",
            "---------\n",
            "input: a kid doing tricks on a skateboard on a bridge\n",
            "actual: a kid is skateboarding\n",
            "predicted: does a trick on a skateboard\n",
            "---------\n",
            "input: A dog with a blue collar plays ball outside .\n",
            "actual: a dog is outside\n",
            "predicted: a dog is playing outside .\n",
            "---------\n",
            "input: Four dirty and barefooted children .\n",
            "actual: four children have dirty feet .\n",
            "predicted: children are playing on a four four people are around a game .\n",
            "---------\n",
            "input: A man is surfing in a bodysuit in beautiful blue water .\n",
            "actual: On the beautiful blue water there is a man in a bodysuit surfing .\n",
            "predicted: a man in a boat .\n",
            "---------\n"
          ],
          "name": "stdout"
        }
      ]
    },
    {
      "cell_type": "code",
      "metadata": {
        "id": "0Rz9ZM1NLyGY",
        "colab_type": "code",
        "colab": {}
      },
      "source": [
        "! rm -rf \"/content/drive/My Drive/nn/heatmap/\"\n",
        "! cp -r heatmap \"/content/drive/My Drive/nn/\""
      ],
      "execution_count": 48,
      "outputs": []
    },
    {
      "cell_type": "markdown",
      "metadata": {
        "id": "fVpUzbvbeinf",
        "colab_type": "text"
      },
      "source": [
        "# BLEU"
      ]
    },
    {
      "cell_type": "code",
      "metadata": {
        "id": "T-wOKROgeq1t",
        "colab_type": "code",
        "colab": {}
      },
      "source": [
        "! pip install -q nltk"
      ],
      "execution_count": 49,
      "outputs": []
    },
    {
      "cell_type": "code",
      "metadata": {
        "id": "9Lgpqu7WhB9C",
        "colab_type": "code",
        "colab": {}
      },
      "source": [
        "X_test = inp[-1000:]\n",
        "y_test = outp[-1000:]"
      ],
      "execution_count": 50,
      "outputs": []
    },
    {
      "cell_type": "code",
      "metadata": {
        "id": "3Z8X8nskoUn9",
        "colab_type": "code",
        "colab": {
          "base_uri": "https://localhost:8080/",
          "height": 34
        },
        "outputId": "22742da9-bad0-46cb-fc31-433f7ba51e71"
      },
      "source": [
        "len(X_test),len(y_test)"
      ],
      "execution_count": 51,
      "outputs": [
        {
          "output_type": "execute_result",
          "data": {
            "text/plain": [
              "(1000, 1000)"
            ]
          },
          "metadata": {
            "tags": []
          },
          "execution_count": 51
        }
      ]
    },
    {
      "cell_type": "code",
      "metadata": {
        "id": "ZRwuMWOvhL6t",
        "colab_type": "code",
        "colab": {}
      },
      "source": [
        "list_of_references = []\n",
        "list_of_hypotheses = []\n",
        "\n",
        "for i, test_sent in enumerate(X_test):\n",
        "  \n",
        "  test_sequence = normalize_string(test_sent)\n",
        "  alignments, source, prediction = predict(test_sequence)\n",
        "  list_of_references.append([y_test[i].split()[:-1]])\n",
        "  list_of_hypotheses.append(prediction[:-1])\n",
        "  # print(\"input:\",test_sent)\n",
        "  # print(\"actual:\",test_trg_sents[i])\n",
        "  # print(\"predicted:\",' '.join(prediction)[:-6])\n",
        "  # print(\"---------\")"
      ],
      "execution_count": 52,
      "outputs": []
    },
    {
      "cell_type": "code",
      "metadata": {
        "id": "84r_QoTkpYUf",
        "colab_type": "code",
        "colab": {
          "base_uri": "https://localhost:8080/",
          "height": 34
        },
        "outputId": "05dbcea6-5569-4576-a5f0-898e238bc35b"
      },
      "source": [
        "list_of_references[0]"
      ],
      "execution_count": 53,
      "outputs": [
        {
          "output_type": "execute_result",
          "data": {
            "text/plain": [
              "[['A', 'group', 'of', 'four', 'are', 'sitting', 'on', 'the', 'sidewalk']]"
            ]
          },
          "metadata": {
            "tags": []
          },
          "execution_count": 53
        }
      ]
    },
    {
      "cell_type": "code",
      "metadata": {
        "id": "ps0MwsvKpcsB",
        "colab_type": "code",
        "colab": {
          "base_uri": "https://localhost:8080/",
          "height": 34
        },
        "outputId": "08ed5ec5-f1fa-4e84-9031-df771fb075b1"
      },
      "source": [
        "list_of_hypotheses[0]"
      ],
      "execution_count": 54,
      "outputs": [
        {
          "output_type": "execute_result",
          "data": {
            "text/plain": [
              "['people', 'sitting', 'down', 'a', 'sidewalk', '.']"
            ]
          },
          "metadata": {
            "tags": []
          },
          "execution_count": 54
        }
      ]
    },
    {
      "cell_type": "code",
      "metadata": {
        "id": "bbKGUOL9eulF",
        "colab_type": "code",
        "colab": {
          "base_uri": "https://localhost:8080/",
          "height": 34
        },
        "outputId": "6093fb82-112e-4770-f5fb-4886a38d7d91"
      },
      "source": [
        "import nltk\n",
        "import warnings\n",
        "warnings.filterwarnings('ignore')\n",
        "nltk.bleu_score.corpus_bleu(list_of_references, list_of_hypotheses)"
      ],
      "execution_count": 55,
      "outputs": [
        {
          "output_type": "execute_result",
          "data": {
            "text/plain": [
              "0.06281239370136549"
            ]
          },
          "metadata": {
            "tags": []
          },
          "execution_count": 55
        }
      ]
    },
    {
      "cell_type": "code",
      "metadata": {
        "id": "Ge8IFpxV-MQp",
        "colab_type": "code",
        "colab": {
          "base_uri": "https://localhost:8080/",
          "height": 34
        },
        "outputId": "996d7159-7587-4816-bd15-cef3ca124891"
      },
      "source": [
        "from nltk.translate.bleu_score import corpus_bleu\n",
        "\n",
        "print('BLEU-1: %f' % corpus_bleu(list_of_references, list_of_hypotheses, weights=(1.0, 0, 0, 0)))"
      ],
      "execution_count": 56,
      "outputs": [
        {
          "output_type": "stream",
          "text": [
            "BLEU-1: 0.277384\n"
          ],
          "name": "stdout"
        }
      ]
    }
  ]
}