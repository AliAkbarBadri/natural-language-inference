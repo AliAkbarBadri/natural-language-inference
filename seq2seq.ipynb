{
  "nbformat": 4,
  "nbformat_minor": 0,
  "metadata": {
    "colab": {
      "name": "seq2seq.ipynb",
      "provenance": [],
      "toc_visible": true,
      "authorship_tag": "ABX9TyM7lBVby54uzHbo2Gjs+NZJ",
      "include_colab_link": true
    },
    "kernelspec": {
      "name": "python3",
      "display_name": "Python 3"
    },
    "accelerator": "GPU"
  },
  "cells": [
    {
      "cell_type": "markdown",
      "metadata": {
        "id": "view-in-github",
        "colab_type": "text"
      },
      "source": [
        "<a href=\"https://colab.research.google.com/github/aliakbarbadri/natural-language-inference/blob/master/seq2seq.ipynb\" target=\"_parent\"><img src=\"https://colab.research.google.com/assets/colab-badge.svg\" alt=\"Open In Colab\"/></a>"
      ]
    },
    {
      "cell_type": "code",
      "metadata": {
        "id": "hykZ4I_Xhxci",
        "colab_type": "code",
        "colab": {
          "base_uri": "https://localhost:8080/",
          "height": 34
        },
        "outputId": "f41e6254-3d65-40d6-91f0-14c91c1c3f25"
      },
      "source": [
        "import tensorflow as tf\n",
        "import tensorflow_datasets as tfds\n",
        "from tensorflow import keras\n",
        "import tensorflow_addons as tfa\n",
        "\n",
        "import unicodedata\n",
        "import re\n",
        "import numpy as np\n",
        "import os\n",
        "import io\n",
        "import time\n",
        "import pandas as pd\n",
        "import numpy as np\n",
        "import string\n",
        "from string import digits\n",
        "import matplotlib.pyplot as plt\n",
        "%matplotlib inline\n",
        "import re\n",
        "from sklearn.utils import shuffle\n",
        "from sklearn.model_selection import train_test_split\n",
        "from keras.layers import Input, LSTM, Embedding, Dense\n",
        "from keras.models import Model"
      ],
      "execution_count": 1,
      "outputs": [
        {
          "output_type": "stream",
          "text": [
            "Using TensorFlow backend.\n"
          ],
          "name": "stderr"
        }
      ]
    },
    {
      "cell_type": "markdown",
      "metadata": {
        "id": "wwirCdEBn4Qp",
        "colab_type": "text"
      },
      "source": [
        "# Load and Preprocess the data"
      ]
    },
    {
      "cell_type": "code",
      "metadata": {
        "id": "dMGXDg7WjBhs",
        "colab_type": "code",
        "colab": {}
      },
      "source": [
        "source = pd.read_pickle(r'https://github.com/aliakbarbadri/natural-language-inference/blob/master/premises_train.pickle?raw=true')\n",
        "target = pd.read_pickle(r'https://github.com/aliakbarbadri/natural-language-inference/blob/master/hypotheses_train.pickle?raw=true')"
      ],
      "execution_count": 2,
      "outputs": []
    },
    {
      "cell_type": "code",
      "metadata": {
        "id": "xXSwvcDCl-Pz",
        "colab_type": "code",
        "colab": {
          "base_uri": "https://localhost:8080/",
          "height": 51
        },
        "outputId": "106b4654-475c-48f4-e839-c7cd3c7b018d"
      },
      "source": [
        "print(source[0])\n",
        "print(target[0])"
      ],
      "execution_count": 3,
      "outputs": [
        {
          "output_type": "stream",
          "text": [
            "A person on a horse jumps over a broken down airplane .\n",
            "A person is outdoors , on a horse .\n"
          ],
          "name": "stdout"
        }
      ]
    },
    {
      "cell_type": "code",
      "metadata": {
        "id": "nARw13TyiGZx",
        "colab_type": "code",
        "colab": {}
      },
      "source": [
        "lines_main = pd.DataFrame(\n",
        "    {'source': source,\n",
        "     'target': target\n",
        "     })"
      ],
      "execution_count": 4,
      "outputs": []
    },
    {
      "cell_type": "code",
      "metadata": {
        "id": "8OlmNxj2jAN4",
        "colab_type": "code",
        "colab": {
          "base_uri": "https://localhost:8080/",
          "height": 34
        },
        "outputId": "beeaf938-fd66-481a-8ed6-294b87e61065"
      },
      "source": [
        "lines_main.shape"
      ],
      "execution_count": 5,
      "outputs": [
        {
          "output_type": "execute_result",
          "data": {
            "text/plain": [
              "(183416, 2)"
            ]
          },
          "metadata": {
            "tags": []
          },
          "execution_count": 5
        }
      ]
    },
    {
      "cell_type": "code",
      "metadata": {
        "id": "86BE0i9ErRKZ",
        "colab_type": "code",
        "colab": {}
      },
      "source": [
        "lines = lines_main[:50000]"
      ],
      "execution_count": 6,
      "outputs": []
    },
    {
      "cell_type": "code",
      "metadata": {
        "id": "P-nWQX5TrkCb",
        "colab_type": "code",
        "colab": {
          "base_uri": "https://localhost:8080/",
          "height": 34
        },
        "outputId": "5e56f101-d2a2-427e-b11f-121388562a14"
      },
      "source": [
        "lines.shape"
      ],
      "execution_count": 7,
      "outputs": [
        {
          "output_type": "execute_result",
          "data": {
            "text/plain": [
              "(50000, 2)"
            ]
          },
          "metadata": {
            "tags": []
          },
          "execution_count": 7
        }
      ]
    },
    {
      "cell_type": "code",
      "metadata": {
        "id": "yUIj_Oq9m6Ys",
        "colab_type": "code",
        "colab": {
          "base_uri": "https://localhost:8080/",
          "height": 461
        },
        "outputId": "6c2edea4-4a87-475a-d067-79cc6c2da4e7"
      },
      "source": [
        "# Lowercase all characters\n",
        "lines.source=lines.source.apply(lambda x: x.lower())\n",
        "lines.target=lines.target.apply(lambda x: x.lower())\n",
        "\n",
        "# Remove quotes\n",
        "lines.source=lines.source.apply(lambda x: re.sub(\"'\", '', x))\n",
        "lines.target=lines.target.apply(lambda x: re.sub(\"'\", '', x))\n",
        "\n",
        "exclude = set(string.punctuation) # Set of all special characters\n",
        "# Remove all the special characters\n",
        "lines.source=lines.source.apply(lambda x: ''.join(ch for ch in x if ch not in exclude))\n",
        "lines.target=lines.target.apply(lambda x: ''.join(ch for ch in x if ch not in exclude))\n",
        "\n",
        "# Remove all numbers from text\n",
        "remove_digits = str.maketrans('', '', digits)\n",
        "lines.source=lines.source.apply(lambda x: x.translate(remove_digits))\n",
        "lines.target=lines.target.apply(lambda x: x.translate(remove_digits))\n",
        "\n",
        "# Remove extra spaces\n",
        "lines.source=lines.source.apply(lambda x: x.strip())\n",
        "lines.target=lines.target.apply(lambda x: x.strip())\n",
        "lines.source=lines.source.apply(lambda x: re.sub(\" +\", \" \", x))\n",
        "lines.target=lines.target.apply(lambda x: re.sub(\" +\", \" \", x))\n",
        "\n",
        "# Add start and end tokens to target sequences\n",
        "lines.target = lines.target.apply(lambda x : 'START_ '+ x + ' _END')\n",
        "\n",
        "lines.sample(10)"
      ],
      "execution_count": 8,
      "outputs": [
        {
          "output_type": "stream",
          "text": [
            "/usr/local/lib/python3.6/dist-packages/pandas/core/generic.py:5303: SettingWithCopyWarning: \n",
            "A value is trying to be set on a copy of a slice from a DataFrame.\n",
            "Try using .loc[row_indexer,col_indexer] = value instead\n",
            "\n",
            "See the caveats in the documentation: https://pandas.pydata.org/pandas-docs/stable/user_guide/indexing.html#returning-a-view-versus-a-copy\n",
            "  self[name] = value\n"
          ],
          "name": "stderr"
        },
        {
          "output_type": "execute_result",
          "data": {
            "text/html": [
              "<div>\n",
              "<style scoped>\n",
              "    .dataframe tbody tr th:only-of-type {\n",
              "        vertical-align: middle;\n",
              "    }\n",
              "\n",
              "    .dataframe tbody tr th {\n",
              "        vertical-align: top;\n",
              "    }\n",
              "\n",
              "    .dataframe thead th {\n",
              "        text-align: right;\n",
              "    }\n",
              "</style>\n",
              "<table border=\"1\" class=\"dataframe\">\n",
              "  <thead>\n",
              "    <tr style=\"text-align: right;\">\n",
              "      <th></th>\n",
              "      <th>source</th>\n",
              "      <th>target</th>\n",
              "    </tr>\n",
              "  </thead>\n",
              "  <tbody>\n",
              "    <tr>\n",
              "      <th>39674</th>\n",
              "      <td>girl getting her hair dyed</td>\n",
              "      <td>START_ the girl is changing her hair color _END</td>\n",
              "    </tr>\n",
              "    <tr>\n",
              "      <th>18737</th>\n",
              "      <td>a girl n an orange dress rides a bicycle on an...</td>\n",
              "      <td>START_ there is only one person _END</td>\n",
              "    </tr>\n",
              "    <tr>\n",
              "      <th>15700</th>\n",
              "      <td>two men fly fishing while standing in a river</td>\n",
              "      <td>START_ two men are standing in the river _END</td>\n",
              "    </tr>\n",
              "    <tr>\n",
              "      <th>32658</th>\n",
              "      <td>three elderly men look at books on display in ...</td>\n",
              "      <td>START_ three old guys peruse the books _END</td>\n",
              "    </tr>\n",
              "    <tr>\n",
              "      <th>29884</th>\n",
              "      <td>three people hiking on a beach</td>\n",
              "      <td>START_ people are hiking on a beach _END</td>\n",
              "    </tr>\n",
              "    <tr>\n",
              "      <th>38822</th>\n",
              "      <td>a dog stands in deep snow surrounded by trees</td>\n",
              "      <td>START_ a dog is outside _END</td>\n",
              "    </tr>\n",
              "    <tr>\n",
              "      <th>41504</th>\n",
              "      <td>a dog jumps over a hurdle in the grass</td>\n",
              "      <td>START_ a dog jumping over a hurdle _END</td>\n",
              "    </tr>\n",
              "    <tr>\n",
              "      <th>29120</th>\n",
              "      <td>a teen boy with a black shirt and blue jeans p...</td>\n",
              "      <td>START_ a person is on a bike _END</td>\n",
              "    </tr>\n",
              "    <tr>\n",
              "      <th>20918</th>\n",
              "      <td>three people sit at a table in front of an est...</td>\n",
              "      <td>START_ the people are outside _END</td>\n",
              "    </tr>\n",
              "    <tr>\n",
              "      <th>8461</th>\n",
              "      <td>a man and a woman standing outside a restaurant</td>\n",
              "      <td>START_ a man and women stand outside a restaur...</td>\n",
              "    </tr>\n",
              "  </tbody>\n",
              "</table>\n",
              "</div>"
            ],
            "text/plain": [
              "                                                  source                                             target\n",
              "39674                         girl getting her hair dyed    START_ the girl is changing her hair color _END\n",
              "18737  a girl n an orange dress rides a bicycle on an...               START_ there is only one person _END\n",
              "15700      two men fly fishing while standing in a river      START_ two men are standing in the river _END\n",
              "32658  three elderly men look at books on display in ...        START_ three old guys peruse the books _END\n",
              "29884                     three people hiking on a beach           START_ people are hiking on a beach _END\n",
              "38822      a dog stands in deep snow surrounded by trees                       START_ a dog is outside _END\n",
              "41504             a dog jumps over a hurdle in the grass            START_ a dog jumping over a hurdle _END\n",
              "29120  a teen boy with a black shirt and blue jeans p...                  START_ a person is on a bike _END\n",
              "20918  three people sit at a table in front of an est...                 START_ the people are outside _END\n",
              "8461     a man and a woman standing outside a restaurant  START_ a man and women stand outside a restaur..."
            ]
          },
          "metadata": {
            "tags": []
          },
          "execution_count": 8
        }
      ]
    },
    {
      "cell_type": "code",
      "metadata": {
        "id": "GaObX-2qnseH",
        "colab_type": "code",
        "colab": {}
      },
      "source": [
        "all_words_source=set()\n",
        "for line in lines.source:\n",
        "    for word in line.split():\n",
        "        if word not in all_words_source:\n",
        "            all_words_source.add(word)\n",
        "\n",
        "all_words_target=set()\n",
        "for line in lines.target:\n",
        "    for word in line.split():\n",
        "        if word not in all_words_target:\n",
        "            all_words_target.add(word)"
      ],
      "execution_count": 9,
      "outputs": []
    },
    {
      "cell_type": "code",
      "metadata": {
        "id": "Gpa0wud0orLE",
        "colab_type": "code",
        "colab": {
          "base_uri": "https://localhost:8080/",
          "height": 34
        },
        "outputId": "b0b248f4-41eb-4af2-e6e8-2243a3e559d3"
      },
      "source": [
        "lenght_list=[]\n",
        "for l in lines.source:\n",
        "    lenght_list.append(len(l.split(' ')))\n",
        "max_length_src = np.max(lenght_list)\n",
        "\n",
        "lenght_list=[]\n",
        "for l in lines.target:\n",
        "    lenght_list.append(len(l.split(' ')))\n",
        "max_length_tar = np.max(lenght_list)\n",
        "\n",
        "max_length_src, max_length_tar"
      ],
      "execution_count": 10,
      "outputs": [
        {
          "output_type": "execute_result",
          "data": {
            "text/plain": [
              "(78, 45)"
            ]
          },
          "metadata": {
            "tags": []
          },
          "execution_count": 10
        }
      ]
    },
    {
      "cell_type": "code",
      "metadata": {
        "id": "H_TuBzRXo5V4",
        "colab_type": "code",
        "colab": {
          "base_uri": "https://localhost:8080/",
          "height": 34
        },
        "outputId": "af6b8341-166d-4811-a373-33bc3429447c"
      },
      "source": [
        "input_words = sorted(list(all_words_source))\n",
        "target_words = sorted(list(all_words_target))\n",
        "\n",
        "num_encoder_tokens = len(all_words_source)#+1\n",
        "num_decoder_tokens = len(all_words_target)+1\n",
        "\n",
        "num_encoder_tokens, num_decoder_tokens"
      ],
      "execution_count": 11,
      "outputs": [
        {
          "output_type": "execute_result",
          "data": {
            "text/plain": [
              "(11410, 8694)"
            ]
          },
          "metadata": {
            "tags": []
          },
          "execution_count": 11
        }
      ]
    },
    {
      "cell_type": "code",
      "metadata": {
        "id": "_NTiCbPUp__T",
        "colab_type": "code",
        "colab": {}
      },
      "source": [
        "input_token_index = dict([(word, i+1) for i, word in enumerate(input_words)])\n",
        "target_token_index = dict([(word, i+1) for i, word in enumerate(target_words)])"
      ],
      "execution_count": 12,
      "outputs": []
    },
    {
      "cell_type": "code",
      "metadata": {
        "id": "K3otYQ_1qI1J",
        "colab_type": "code",
        "colab": {}
      },
      "source": [
        "reverse_input_char_index = dict((i, word) for word, i in input_token_index.items())\n",
        "reverse_target_char_index = dict((i, word) for word, i in target_token_index.items())"
      ],
      "execution_count": 13,
      "outputs": []
    },
    {
      "cell_type": "code",
      "metadata": {
        "id": "VpEE07_qqMRA",
        "colab_type": "code",
        "colab": {
          "base_uri": "https://localhost:8080/",
          "height": 359
        },
        "outputId": "7153c4c3-9fbb-4f1a-86ce-dbd41793703b"
      },
      "source": [
        "# lines = shuffle(lines)\n",
        "lines.head(10)"
      ],
      "execution_count": 14,
      "outputs": [
        {
          "output_type": "execute_result",
          "data": {
            "text/html": [
              "<div>\n",
              "<style scoped>\n",
              "    .dataframe tbody tr th:only-of-type {\n",
              "        vertical-align: middle;\n",
              "    }\n",
              "\n",
              "    .dataframe tbody tr th {\n",
              "        vertical-align: top;\n",
              "    }\n",
              "\n",
              "    .dataframe thead th {\n",
              "        text-align: right;\n",
              "    }\n",
              "</style>\n",
              "<table border=\"1\" class=\"dataframe\">\n",
              "  <thead>\n",
              "    <tr style=\"text-align: right;\">\n",
              "      <th></th>\n",
              "      <th>source</th>\n",
              "      <th>target</th>\n",
              "    </tr>\n",
              "  </thead>\n",
              "  <tbody>\n",
              "    <tr>\n",
              "      <th>0</th>\n",
              "      <td>a person on a horse jumps over a broken down a...</td>\n",
              "      <td>START_ a person is outdoors on a horse _END</td>\n",
              "    </tr>\n",
              "    <tr>\n",
              "      <th>1</th>\n",
              "      <td>children smiling and waving at camera</td>\n",
              "      <td>START_ there are children present _END</td>\n",
              "    </tr>\n",
              "    <tr>\n",
              "      <th>2</th>\n",
              "      <td>a boy is jumping on skateboard in the middle o...</td>\n",
              "      <td>START_ the boy does a skateboarding trick _END</td>\n",
              "    </tr>\n",
              "    <tr>\n",
              "      <th>3</th>\n",
              "      <td>two blond women are hugging one another</td>\n",
              "      <td>START_ there are women showing affection _END</td>\n",
              "    </tr>\n",
              "    <tr>\n",
              "      <th>4</th>\n",
              "      <td>a few people in a restaurant setting one of th...</td>\n",
              "      <td>START_ the diners are at a restaurant _END</td>\n",
              "    </tr>\n",
              "    <tr>\n",
              "      <th>5</th>\n",
              "      <td>an older man is drinking orange juice at a res...</td>\n",
              "      <td>START_ a man is drinking juice _END</td>\n",
              "    </tr>\n",
              "    <tr>\n",
              "      <th>6</th>\n",
              "      <td>a man with blondhair and a brown shirt drinkin...</td>\n",
              "      <td>START_ a blond man drinking water from a fount...</td>\n",
              "    </tr>\n",
              "    <tr>\n",
              "      <th>7</th>\n",
              "      <td>two women who just had lunch hugging and sayin...</td>\n",
              "      <td>START_ there are two woman in this picture _END</td>\n",
              "    </tr>\n",
              "    <tr>\n",
              "      <th>8</th>\n",
              "      <td>two women holding food carryout containers hug</td>\n",
              "      <td>START_ two women hug each other _END</td>\n",
              "    </tr>\n",
              "    <tr>\n",
              "      <th>9</th>\n",
              "      <td>a little league team tries to catch a runner s...</td>\n",
              "      <td>START_ a team is trying to tag a runner out _END</td>\n",
              "    </tr>\n",
              "  </tbody>\n",
              "</table>\n",
              "</div>"
            ],
            "text/plain": [
              "                                              source                                             target\n",
              "0  a person on a horse jumps over a broken down a...        START_ a person is outdoors on a horse _END\n",
              "1              children smiling and waving at camera             START_ there are children present _END\n",
              "2  a boy is jumping on skateboard in the middle o...     START_ the boy does a skateboarding trick _END\n",
              "3            two blond women are hugging one another      START_ there are women showing affection _END\n",
              "4  a few people in a restaurant setting one of th...         START_ the diners are at a restaurant _END\n",
              "5  an older man is drinking orange juice at a res...                START_ a man is drinking juice _END\n",
              "6  a man with blondhair and a brown shirt drinkin...  START_ a blond man drinking water from a fount...\n",
              "7  two women who just had lunch hugging and sayin...    START_ there are two woman in this picture _END\n",
              "8     two women holding food carryout containers hug               START_ two women hug each other _END\n",
              "9  a little league team tries to catch a runner s...   START_ a team is trying to tag a runner out _END"
            ]
          },
          "metadata": {
            "tags": []
          },
          "execution_count": 14
        }
      ]
    },
    {
      "cell_type": "code",
      "metadata": {
        "id": "j_atfQaWqONe",
        "colab_type": "code",
        "colab": {
          "base_uri": "https://localhost:8080/",
          "height": 34
        },
        "outputId": "a6010b5b-3fde-4d38-ef8c-670406b32acc"
      },
      "source": [
        "# Train - Test Split\n",
        "X, y = lines.source, lines.target\n",
        "X_train, X_test, y_train, y_test = train_test_split(X, y, test_size = 0.2)\n",
        "X_train.shape, X_test.shape"
      ],
      "execution_count": 15,
      "outputs": [
        {
          "output_type": "execute_result",
          "data": {
            "text/plain": [
              "((40000,), (10000,))"
            ]
          },
          "metadata": {
            "tags": []
          },
          "execution_count": 15
        }
      ]
    },
    {
      "cell_type": "code",
      "metadata": {
        "id": "hL92r0BBqWY5",
        "colab_type": "code",
        "colab": {}
      },
      "source": [
        "# X_train.to_pickle('X_train.pkl')\n",
        "# X_test.to_pickle('X_test.pkl')"
      ],
      "execution_count": 16,
      "outputs": []
    },
    {
      "cell_type": "code",
      "metadata": {
        "id": "OkkNtT0uqZFI",
        "colab_type": "code",
        "colab": {}
      },
      "source": [
        "def generate_batch(X = X_train, y = y_train, batch_size = 64):\n",
        "    ''' Generate a batch of data '''\n",
        "    while True:\n",
        "        for j in range(0, len(X), batch_size):\n",
        "            encoder_input_data = np.zeros((batch_size, max_length_src),dtype='float32')\n",
        "            decoder_input_data = np.zeros((batch_size, max_length_tar),dtype='float32')\n",
        "            decoder_target_data = np.zeros((batch_size, max_length_tar, num_decoder_tokens),dtype='float32')\n",
        "            for i, (input_text, target_text) in enumerate(zip(X[j:j+batch_size], y[j:j+batch_size])):\n",
        "                for t, word in enumerate(input_text.split()):\n",
        "                    encoder_input_data[i, t] = input_token_index[word] # encoder input seq\n",
        "                for t, word in enumerate(target_text.split()):\n",
        "                    if t<len(target_text.split())-1:\n",
        "                        decoder_input_data[i, t] = target_token_index[word] # decoder input seq\n",
        "                    if t>0:\n",
        "                        # decoder target sequence (one hot encoded)\n",
        "                        # does not include the START_ token\n",
        "                        # Offset by one timestep\n",
        "                        decoder_target_data[i, t - 1, target_token_index[word]] = 1.\n",
        "            yield([encoder_input_data, decoder_input_data], decoder_target_data)"
      ],
      "execution_count": 17,
      "outputs": []
    },
    {
      "cell_type": "markdown",
      "metadata": {
        "id": "m-YxGi_NqhkX",
        "colab_type": "text"
      },
      "source": [
        "# Model"
      ]
    },
    {
      "cell_type": "code",
      "metadata": {
        "id": "qNtR35jJqfP4",
        "colab_type": "code",
        "colab": {}
      },
      "source": [
        "latent_dim = 256"
      ],
      "execution_count": 18,
      "outputs": []
    },
    {
      "cell_type": "code",
      "metadata": {
        "id": "s4O27PJRqk1_",
        "colab_type": "code",
        "colab": {}
      },
      "source": [
        "encoder_inputs = Input(shape=(None,))\n",
        "enc_emb =  Embedding(num_encoder_tokens, latent_dim, mask_zero = True)(encoder_inputs)\n",
        "encoder_lstm = LSTM(latent_dim, return_state=True)\n",
        "encoder_outputs, state_h, state_c = encoder_lstm(enc_emb)\n",
        "encoder_states = [state_h, state_c]\n",
        "\n",
        "# # Encoder\n",
        "# encoder_inputs = Input(shape=(None,))\n",
        "# enc_emb =  Embedding(num_encoder_tokens, latent_dim, mask_zero = True)(encoder_inputs)\n",
        "# encoder_lstm = LSTM(latent_dim, return_state=True)\n",
        "# encoder_outputs, state_h, state_c = encoder_lstm(enc_emb)\n",
        "# # We discard `encoder_outputs` and only keep the states.\n",
        "# encoder_states = [state_h, state_c]"
      ],
      "execution_count": 19,
      "outputs": []
    },
    {
      "cell_type": "code",
      "metadata": {
        "id": "CFe0HRI9qnvZ",
        "colab_type": "code",
        "colab": {}
      },
      "source": [
        "decoder_inputs = Input(shape=(None,))\n",
        "dec_emb_layer = Embedding(num_decoder_tokens, latent_dim, mask_zero = True)\n",
        "dec_emb = dec_emb_layer(decoder_inputs)\n",
        "\n",
        "decoder_lstm = LSTM(latent_dim, return_sequences=True, return_state=True)\n",
        "decoder_outputs, _, _ = decoder_lstm(dec_emb, initial_state=encoder_states)\n",
        "decoder_dense = Dense(num_decoder_tokens, activation='softmax')\n",
        "decoder_outputs = decoder_dense(decoder_outputs)"
      ],
      "execution_count": 20,
      "outputs": []
    },
    {
      "cell_type": "code",
      "metadata": {
        "id": "P0kvnUXMqpav",
        "colab_type": "code",
        "colab": {
          "base_uri": "https://localhost:8080/",
          "height": 425
        },
        "outputId": "d942ec9c-e717-4641-a26a-1c06836ebb93"
      },
      "source": [
        "model = Model([encoder_inputs, decoder_inputs], decoder_outputs)\n",
        "model.compile(optimizer='rmsprop', loss='categorical_crossentropy', metrics=['acc'])\n",
        "model.summary()"
      ],
      "execution_count": 21,
      "outputs": [
        {
          "output_type": "stream",
          "text": [
            "Model: \"model_1\"\n",
            "__________________________________________________________________________________________________\n",
            "Layer (type)                    Output Shape         Param #     Connected to                     \n",
            "==================================================================================================\n",
            "input_1 (InputLayer)            (None, None)         0                                            \n",
            "__________________________________________________________________________________________________\n",
            "input_2 (InputLayer)            (None, None)         0                                            \n",
            "__________________________________________________________________________________________________\n",
            "embedding_1 (Embedding)         (None, None, 256)    2920960     input_1[0][0]                    \n",
            "__________________________________________________________________________________________________\n",
            "embedding_2 (Embedding)         (None, None, 256)    2225664     input_2[0][0]                    \n",
            "__________________________________________________________________________________________________\n",
            "lstm_1 (LSTM)                   [(None, 256), (None, 525312      embedding_1[0][0]                \n",
            "__________________________________________________________________________________________________\n",
            "lstm_2 (LSTM)                   [(None, None, 256),  525312      embedding_2[0][0]                \n",
            "                                                                 lstm_1[0][1]                     \n",
            "                                                                 lstm_1[0][2]                     \n",
            "__________________________________________________________________________________________________\n",
            "dense_1 (Dense)                 (None, None, 8694)   2234358     lstm_2[0][0]                     \n",
            "==================================================================================================\n",
            "Total params: 8,431,606\n",
            "Trainable params: 8,431,606\n",
            "Non-trainable params: 0\n",
            "__________________________________________________________________________________________________\n"
          ],
          "name": "stdout"
        }
      ]
    },
    {
      "cell_type": "code",
      "metadata": {
        "id": "GZUQ_TlZqq6r",
        "colab_type": "code",
        "colab": {
          "base_uri": "https://localhost:8080/",
          "height": 533
        },
        "outputId": "dd5e7ff4-f28e-4276-a132-810eb15657c5"
      },
      "source": [
        "keras.utils.plot_model(model, show_shapes=True, show_layer_names=True, expand_nested=True)"
      ],
      "execution_count": 22,
      "outputs": [
        {
          "output_type": "execute_result",
          "data": {
            "image/png": "[encoded data removed]",
            "text/plain": [
              "<IPython.core.display.Image object>"
            ]
          },
          "metadata": {
            "tags": []
          },
          "execution_count": 22
        }
      ]
    },
    {
      "cell_type": "code",
      "metadata": {
        "id": "oZbv3YeOqvhV",
        "colab_type": "code",
        "colab": {}
      },
      "source": [
        "train_samples = len(X_train)\n",
        "val_samples = len(X_test)\n",
        "batch_size = 32\n",
        "epochs = 7"
      ],
      "execution_count": 23,
      "outputs": []
    },
    {
      "cell_type": "code",
      "metadata": {
        "id": "yyCUTjUEq0v7",
        "colab_type": "code",
        "colab": {
          "base_uri": "https://localhost:8080/",
          "height": 309
        },
        "outputId": "36fedb15-bba6-4532-90cb-2e9f5b87715f"
      },
      "source": [
        "history = model.fit(generate_batch(X_train, y_train, batch_size = batch_size),\n",
        "                    steps_per_epoch = train_samples//batch_size,\n",
        "                    epochs=epochs,\n",
        "                    validation_data = generate_batch(X_test, y_test, batch_size = batch_size),\n",
        "                    validation_steps = val_samples//batch_size)"
      ],
      "execution_count": 24,
      "outputs": [
        {
          "output_type": "stream",
          "text": [
            "/usr/local/lib/python3.6/dist-packages/tensorflow/python/framework/indexed_slices.py:434: UserWarning: Converting sparse IndexedSlices to a dense Tensor of unknown shape. This may consume a large amount of memory.\n",
            "  \"Converting sparse IndexedSlices to a dense Tensor of unknown shape. \"\n"
          ],
          "name": "stderr"
        },
        {
          "output_type": "stream",
          "text": [
            "Epoch 1/7\n",
            "1250/1250 [==============================] - 780s 624ms/step - loss: 0.6541 - acc: 0.3605 - val_loss: 0.6650 - val_acc: 0.4152\n",
            "Epoch 2/7\n",
            "1250/1250 [==============================] - 772s 617ms/step - loss: 0.5556 - acc: 0.4349 - val_loss: 0.5873 - val_acc: 0.4456\n",
            "Epoch 3/7\n",
            "1250/1250 [==============================] - 734s 587ms/step - loss: 0.5181 - acc: 0.4596 - val_loss: 0.4937 - val_acc: 0.4616\n",
            "Epoch 4/7\n",
            "1250/1250 [==============================] - 722s 578ms/step - loss: 0.4906 - acc: 0.4773 - val_loss: 0.4887 - val_acc: 0.4714\n",
            "Epoch 5/7\n",
            "1250/1250 [==============================] - 714s 571ms/step - loss: 0.4695 - acc: 0.4933 - val_loss: 0.5577 - val_acc: 0.4778\n",
            "Epoch 6/7\n",
            "1250/1250 [==============================] - 709s 567ms/step - loss: 0.4527 - acc: 0.5069 - val_loss: 0.4878 - val_acc: 0.4817\n",
            "Epoch 7/7\n",
            "1250/1250 [==============================] - 708s 566ms/step - loss: 0.4387 - acc: 0.5193 - val_loss: 0.4667 - val_acc: 0.4810\n"
          ],
          "name": "stdout"
        }
      ]
    },
    {
      "cell_type": "code",
      "metadata": {
        "id": "xNMCEQjabDDe",
        "colab_type": "code",
        "colab": {}
      },
      "source": [
        "# model = keras.models.load_model('seq2seq_model.h5')\n",
        "model = model.load_weights('seq_weights.h5')\n",
        "# model_json = model.to_json()\n",
        "# with open(\"model.json\", \"w\") as json_file:\n",
        "#     json_file.write(model_json)\n",
        "# model.save_weights(\"model.h5\")\n",
        "# print(\"Saved model to disk\")"
      ],
      "execution_count": 25,
      "outputs": []
    },
    {
      "cell_type": "code",
      "metadata": {
        "id": "Nz7waL02cZAz",
        "colab_type": "code",
        "colab": {}
      },
      "source": [
        "model.save('seq_model.h5')\n",
        "# model.save_weights('seq_weights.h5')\n",
        "# load json and create model\n",
        "# json_file = open('model.json', 'r')\n",
        "# loaded_model_json = json_file.read()\n",
        "# json_file.close()"
      ],
      "execution_count": 26,
      "outputs": []
    },
    {
      "cell_type": "markdown",
      "metadata": {
        "id": "sf_jEMU2-jjE",
        "colab_type": "text"
      },
      "source": [
        "# Loss and Acc. graph"
      ]
    },
    {
      "cell_type": "code",
      "metadata": {
        "id": "lc37rJvv9KBd",
        "colab_type": "code",
        "colab": {
          "base_uri": "https://localhost:8080/",
          "height": 483
        },
        "outputId": "55644268-0d15-4657-c1ca-bd96fa8a620d"
      },
      "source": [
        "pd.DataFrame({'loss':history.history['loss'],\n",
        "              'valid_loss':history.history['val_loss'],\n",
        "              }).plot(figsize=(8, 8))\n",
        "plt.grid(True)"
      ],
      "execution_count": 27,
      "outputs": [
        {
          "output_type": "display_data",
          "data": {
            "image/png": "[encoded data removed]",
            "text/plain": [
              "<Figure size 576x576 with 1 Axes>"
            ]
          },
          "metadata": {
            "tags": [],
            "needs_background": "light"
          }
        }
      ]
    },
    {
      "cell_type": "code",
      "metadata": {
        "id": "1pC-PZwl9L5N",
        "colab_type": "code",
        "colab": {
          "base_uri": "https://localhost:8080/",
          "height": 483
        },
        "outputId": "83c42392-ce65-445b-ea7e-0b659125b31c"
      },
      "source": [
        "pd.DataFrame({'acc':history.history['acc'],\n",
        "              'val_acc':history.history['val_acc']\n",
        "              }).plot(figsize=(8, 8))\n",
        "plt.grid(True)\n"
      ],
      "execution_count": 28,
      "outputs": [
        {
          "output_type": "display_data",
          "data": {
            "image/png": "[encoded data removed]",
            "text/plain": [
              "<Figure size 576x576 with 1 Axes>"
            ]
          },
          "metadata": {
            "tags": [],
            "needs_background": "light"
          }
        }
      ]
    },
    {
      "cell_type": "markdown",
      "metadata": {
        "id": "FgzXoBRa-paV",
        "colab_type": "text"
      },
      "source": [
        "# Model Evaluation"
      ]
    },
    {
      "cell_type": "code",
      "metadata": {
        "id": "DfXMV8g7uiBa",
        "colab_type": "code",
        "colab": {}
      },
      "source": [
        "# Encode the input sequence to get the \"thought vectors\"\n",
        "encoder_model = Model(encoder_inputs, encoder_states)\n",
        "\n",
        "# Decoder setup\n",
        "# Below tensors will hold the states of the previous time step\n",
        "decoder_state_input_h = Input(shape=(latent_dim,))\n",
        "decoder_state_input_c = Input(shape=(latent_dim,))\n",
        "decoder_states_inputs = [decoder_state_input_h, decoder_state_input_c]\n",
        "\n",
        "# Get the embeddings of the decoder sequence\n",
        "dec_emb2= dec_emb_layer(decoder_inputs)\n",
        "\n",
        "# To predict the next word in the sequence, set the initial states to the states from the previous time step\n",
        "decoder_outputs2, state_h2, state_c2 = decoder_lstm(dec_emb2, initial_state=decoder_states_inputs)\n",
        "decoder_states2 = [state_h2, state_c2]\n",
        "\n",
        "# A dense softmax layer to generate prob dist. over the target vocabulary\n",
        "decoder_outputs2 = decoder_dense(decoder_outputs2)\n",
        "\n",
        "# Final decoder model\n",
        "decoder_model = Model(\n",
        "    [decoder_inputs] + decoder_states_inputs,\n",
        "    [decoder_outputs2] + decoder_states2)"
      ],
      "execution_count": 29,
      "outputs": []
    },
    {
      "cell_type": "code",
      "metadata": {
        "id": "B7nWvMA9uw7b",
        "colab_type": "code",
        "colab": {}
      },
      "source": [
        "def decode_sequence(input_seq):\n",
        "    states_value = encoder_model.predict(input_seq)\n",
        "    target_seq = np.zeros((1,1))\n",
        "    target_seq[0, 0] = target_token_index['START_']\n",
        "    stop_condition = False\n",
        "    decoded_sentence = ''\n",
        "    while not stop_condition:\n",
        "        output_tokens, h, c = decoder_model.predict([target_seq] + states_value)\n",
        "        sampled_token_index = np.argmax(output_tokens[0, -1, :])\n",
        "        sampled_char = reverse_target_char_index[sampled_token_index]\n",
        "        decoded_sentence += ' '+sampled_char\n",
        "        if (sampled_char == '_END' or\n",
        "           len(decoded_sentence) > 50):\n",
        "            stop_condition = True\n",
        "        target_seq = np.zeros((1,1))\n",
        "        target_seq[0, 0] = sampled_token_index\n",
        "        states_value = [h, c]\n",
        "    return decoded_sentence"
      ],
      "execution_count": 30,
      "outputs": []
    },
    {
      "cell_type": "code",
      "metadata": {
        "id": "XsloaizIu0b9",
        "colab_type": "code",
        "colab": {}
      },
      "source": [
        "test_gen = generate_batch(X_test, y_test, batch_size = 1)\n",
        "k=-1"
      ],
      "execution_count": 44,
      "outputs": []
    },
    {
      "cell_type": "code",
      "metadata": {
        "id": "pLZlWsI7u5YK",
        "colab_type": "code",
        "colab": {
          "base_uri": "https://localhost:8080/",
          "height": 68
        },
        "outputId": "6be860d5-e02d-4d14-e9d5-fef5ef72e8dd"
      },
      "source": [
        "k+=1\n",
        "(input_seq, actual_output), _ = next(test_gen)\n",
        "decoded_sentence = decode_sequence(input_seq)\n",
        "print('Input:', X_test[k:k+1].values[0])\n",
        "print('Actual:', y_test[k:k+1].values[0][6:-4])\n",
        "print('Predicted:', decoded_sentence[:-4])"
      ],
      "execution_count": 38,
      "outputs": [
        {
          "output_type": "stream",
          "text": [
            "Input: a man drives a truck while a child sits on his lap and steers\n",
            "Actual:  a small child sits on a mans lap and steers a truck \n",
            "Predicted:  a man is sitting on a couch \n"
          ],
          "name": "stdout"
        }
      ]
    },
    {
      "cell_type": "code",
      "metadata": {
        "id": "xo1xCieR4hnU",
        "colab_type": "code",
        "colab": {
          "base_uri": "https://localhost:8080/",
          "height": 102
        },
        "outputId": "14687512-77bf-416c-f296-206dbc8aa42d"
      },
      "source": [
        "# just to see why use 6, -4\n",
        "print(y_test[k:k+1].values[0])\n",
        "print(y_test[k:k+1].values[0][6:-4].split())\n",
        "print()\n",
        "print(decoded_sentence)\n",
        "print(decoded_sentence[:-4].split())"
      ],
      "execution_count": 40,
      "outputs": [
        {
          "output_type": "stream",
          "text": [
            "START_ a small child sits on a mans lap and steers a truck _END\n",
            "['a', 'small', 'child', 'sits', 'on', 'a', 'mans', 'lap', 'and', 'steers', 'a', 'truck']\n",
            "\n",
            " a man is sitting on a couch _END\n",
            "['a', 'man', 'is', 'sitting', 'on', 'a', 'couch']\n"
          ],
          "name": "stdout"
        }
      ]
    },
    {
      "cell_type": "markdown",
      "metadata": {
        "id": "8NCv0T0T-y_w",
        "colab_type": "text"
      },
      "source": [
        "# Blue"
      ]
    },
    {
      "cell_type": "code",
      "metadata": {
        "id": "-TJuOyW2KEdr",
        "colab_type": "code",
        "colab": {}
      },
      "source": [
        "list_of_references = []\n",
        "list_of_hypotheses = []\n",
        "for k in range(int(val_samples/100)):\n",
        "  (input_seq, actual_output), _ = next(test_gen)\n",
        "  decoded_sentence = decode_sequence(input_seq)\n",
        "  list_of_hypotheses.append(y_test[k:k+1].values[0][6:-4].split())\n",
        "  list_of_references.append([decoded_sentence[:-4].split()])\n",
        "  # print('Input:', X_test[k:k+1].values[0])\n",
        "  # print('Actual:', y_test[k:k+1].values[0][6:-4])\n",
        "  # print('Predicted:', decoded_sentence[:-4])"
      ],
      "execution_count": 45,
      "outputs": []
    },
    {
      "cell_type": "markdown",
      "metadata": {
        "id": "QSgbxa3czoA5",
        "colab_type": "text"
      },
      "source": [
        "https://towardsdatascience.com/evaluating-text-output-in-nlp-bleu-at-your-own-risk-e8609665a213"
      ]
    },
    {
      "cell_type": "code",
      "metadata": {
        "id": "_CZp4srL7pXw",
        "colab_type": "code",
        "colab": {}
      },
      "source": [
        "! pip install -q nltk"
      ],
      "execution_count": 49,
      "outputs": []
    },
    {
      "cell_type": "code",
      "metadata": {
        "id": "fCWEFYq0dAfL",
        "colab_type": "code",
        "colab": {
          "base_uri": "https://localhost:8080/",
          "height": 34
        },
        "outputId": "ac530660-bc5a-415e-accd-54f8ad0b9479"
      },
      "source": [
        "import nltk\n",
        "\n",
        "nltk.bleu_score.corpus_bleu(list_of_references, list_of_hypotheses)"
      ],
      "execution_count": 51,
      "outputs": [
        {
          "output_type": "execute_result",
          "data": {
            "text/plain": [
              "0.11389428766953594"
            ]
          },
          "metadata": {
            "tags": []
          },
          "execution_count": 51
        }
      ]
    },
    {
      "cell_type": "markdown",
      "metadata": {
        "id": "__L8ceWg-3C8",
        "colab_type": "text"
      },
      "source": [
        "# first 30 outputs for test data"
      ]
    },
    {
      "cell_type": "code",
      "metadata": {
        "id": "VRl9Vgb3OpIO",
        "colab_type": "code",
        "colab": {
          "base_uri": "https://localhost:8080/",
          "height": 1000
        },
        "outputId": "fbb6c21b-0ed9-4edd-89d1-508f59f4a89e"
      },
      "source": [
        "for i in range(30):\n",
        "  print(i)\n",
        "  print(\" \".join(list_of_references[i][0]))\n",
        "  print(\" \".join(list_of_hypotheses[i]))\n",
        "  print(\"---------------------\")"
      ],
      "execution_count": 54,
      "outputs": [
        {
          "output_type": "stream",
          "text": [
            "0\n",
            "a man is sitting on a couch\n",
            "a small child sits on a mans lap and steers a truck\n",
            "---------------------\n",
            "1\n",
            "the girl is holding something\n",
            "a girl with curly hair has her mouth open\n",
            "---------------------\n",
            "2\n",
            "the woman is wearing a shirt\n",
            "a man plays a guitar while a woman reviews something in a red coat\n",
            "---------------------\n",
            "3\n",
            "an old man is singing\n",
            "there is a guy speaking at a podium\n",
            "---------------------\n",
            "4\n",
            "a man is wearing a black shirt\n",
            "a human holds his hand up\n",
            "---------------------\n",
            "5\n",
            "a baby is being eating\n",
            "a laughing baby is surrounded by balls\n",
            "---------------------\n",
            "6\n",
            "a boy is standing on a bicycle\n",
            "there is a young boy fishing on the dock\n",
            "---------------------\n",
            "7\n",
            "a boy is on a tree\n",
            "a boy is looking\n",
            "---------------------\n",
            "8\n",
            "a man is riding his bike\n",
            "a person waiting on his bike\n",
            "---------------------\n",
            "9\n",
            "a man is riding his bike\n",
            "the man is riding a bike while carrying something\n",
            "---------------------\n",
            "10\n",
            "a man and a woman are sitting on a boat\n",
            "they are on the deck\n",
            "---------------------\n",
            "11\n",
            "a man is standing next to a car\n",
            "there is a man outside next to a building and a vehicle\n",
            "---------------------\n",
            "12\n",
            "a man is sitting in a boat\n",
            "the canoe on the water held a man\n",
            "---------------------\n",
            "13\n",
            "people are walking down the street\n",
            "people are out on the street\n",
            "---------------------\n",
            "14\n",
            "three people are standing next to a tree\n",
            "three people are standing next to hot air balloons\n",
            "---------------------\n",
            "15\n",
            "people are in a race\n",
            "a group of people are racing\n",
            "---------------------\n",
            "16\n",
            "the dog is jumping\n",
            "a dog is catching a stick\n",
            "---------------------\n",
            "17\n",
            "two men are outside\n",
            "men are working on removing branches from a tree\n",
            "---------------------\n",
            "18\n",
            "a person is standing in front of a store\n",
            "a woman sells products to customers\n",
            "---------------------\n",
            "19\n",
            "the people are playing a game\n",
            "hockey players are at the game\n",
            "---------------------\n",
            "20\n",
            "two children are in a car\n",
            "children are sleeping\n",
            "---------------------\n",
            "21\n",
            "a guy is holding a instrument\n",
            "a male is being weird\n",
            "---------------------\n",
            "22\n",
            "a man is playing a game\n",
            "a man in a shirt plays the drums\n",
            "---------------------\n",
            "23\n",
            "two people are holding a sign\n",
            "two adults are holding a sign\n",
            "---------------------\n",
            "24\n",
            "a boy and a dog are outside\n",
            "a boy is sitting on his dad s shoulders\n",
            "---------------------\n",
            "25\n",
            "the building is being sign\n",
            "on the right side a building is hidden behind trees\n",
            "---------------------\n",
            "26\n",
            "a man is working on a boat\n",
            "a man is working on a boat\n",
            "---------------------\n",
            "27\n",
            "a dog is running\n",
            "there was a black dog in the flat field and he was attempting to make a turn\n",
            "---------------------\n",
            "28\n",
            "a man is standing in front of a building\n",
            "a guy has his hand in a shopping cart\n",
            "---------------------\n",
            "29\n",
            "the dog is running\n",
            "two dogs chase after a man\n",
            "---------------------\n"
          ],
          "name": "stdout"
        }
      ]
    }
  ]
}