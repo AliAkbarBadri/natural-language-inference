{
  "nbformat": 4,
  "nbformat_minor": 0,
  "metadata": {
    "colab": {
      "name": "seq2seq.ipynb",
      "provenance": [],
      "authorship_tag": "ABX9TyOtWVVEUb0FPAmisCz/q4y8",
      "include_colab_link": true
    },
    "kernelspec": {
      "name": "python3",
      "display_name": "Python 3"
    },
    "accelerator": "GPU"
  },
  "cells": [
    {
      "cell_type": "markdown",
      "metadata": {
        "id": "view-in-github",
        "colab_type": "text"
      },
      "source": [
        "<a href=\"https://colab.research.google.com/github/aliakbarbadri/natural-language-inference/blob/master/seq2seq.ipynb\" target=\"_parent\"><img src=\"https://colab.research.google.com/assets/colab-badge.svg\" alt=\"Open In Colab\"/></a>"
      ]
    },
    {
      "cell_type": "code",
      "metadata": {
        "id": "hykZ4I_Xhxci",
        "colab_type": "code",
        "colab": {
          "base_uri": "https://localhost:8080/",
          "height": 34
        },
        "outputId": "a7763035-8556-4dfe-f911-e3b6467f2c5a"
      },
      "source": [
        "import tensorflow as tf\n",
        "import tensorflow_datasets as tfds\n",
        "from tensorflow import keras\n",
        "import tensorflow_addons as tfa\n",
        "\n",
        "import matplotlib.pyplot as plt\n",
        "import matplotlib.ticker as ticker\n",
        "from sklearn.model_selection import train_test_split\n",
        "from tensorflow.keras.layers import Embedding, LSTM, Dense, Dropout, Bidirectional, GRU, TimeDistributed\n",
        "import unicodedata\n",
        "import re\n",
        "import numpy as np\n",
        "import os\n",
        "import io\n",
        "import time\n",
        "import pandas as pd\n",
        "import numpy as np\n",
        "import string\n",
        "from string import digits\n",
        "import matplotlib.pyplot as plt\n",
        "%matplotlib inline\n",
        "import re\n",
        "from sklearn.utils import shuffle\n",
        "from sklearn.model_selection import train_test_split\n",
        "from keras.layers import Input, LSTM, Embedding, Dense\n",
        "from keras.models import Model"
      ],
      "execution_count": 1,
      "outputs": [
        {
          "output_type": "stream",
          "text": [
            "Using TensorFlow backend.\n"
          ],
          "name": "stderr"
        }
      ]
    },
    {
      "cell_type": "markdown",
      "metadata": {
        "id": "wwirCdEBn4Qp",
        "colab_type": "text"
      },
      "source": [
        "# Load and Preprocess the data"
      ]
    },
    {
      "cell_type": "code",
      "metadata": {
        "id": "dMGXDg7WjBhs",
        "colab_type": "code",
        "colab": {}
      },
      "source": [
        "source = pd.read_pickle(r'https://github.com/aliakbarbadri/natural-language-inference/blob/master/hypotheses_train.pickle?raw=true')\n",
        "target = pd.read_pickle(r'https://github.com/aliakbarbadri/natural-language-inference/blob/master/premises_train.pickle?raw=true')"
      ],
      "execution_count": 2,
      "outputs": []
    },
    {
      "cell_type": "code",
      "metadata": {
        "id": "xXSwvcDCl-Pz",
        "colab_type": "code",
        "colab": {
          "base_uri": "https://localhost:8080/",
          "height": 51
        },
        "outputId": "df7bfaa4-67df-4ea1-fbcf-9d6d8cadfb5e"
      },
      "source": [
        "print(source[0])\n",
        "print(target[0])"
      ],
      "execution_count": 3,
      "outputs": [
        {
          "output_type": "stream",
          "text": [
            "A person is outdoors , on a horse .\n",
            "A person on a horse jumps over a broken down airplane .\n"
          ],
          "name": "stdout"
        }
      ]
    },
    {
      "cell_type": "code",
      "metadata": {
        "id": "nARw13TyiGZx",
        "colab_type": "code",
        "colab": {}
      },
      "source": [
        "lines_main = pd.DataFrame(\n",
        "    {'source': source,\n",
        "     'target': target\n",
        "     })"
      ],
      "execution_count": 4,
      "outputs": []
    },
    {
      "cell_type": "code",
      "metadata": {
        "id": "8OlmNxj2jAN4",
        "colab_type": "code",
        "colab": {
          "base_uri": "https://localhost:8080/",
          "height": 34
        },
        "outputId": "0f228fb3-6ddc-4cc5-bb6b-e640f2da5d07"
      },
      "source": [
        "lines_main.shape"
      ],
      "execution_count": 5,
      "outputs": [
        {
          "output_type": "execute_result",
          "data": {
            "text/plain": [
              "(183416, 2)"
            ]
          },
          "metadata": {
            "tags": []
          },
          "execution_count": 5
        }
      ]
    },
    {
      "cell_type": "code",
      "metadata": {
        "id": "86BE0i9ErRKZ",
        "colab_type": "code",
        "colab": {}
      },
      "source": [
        "lines = lines_main[:50000]"
      ],
      "execution_count": 6,
      "outputs": []
    },
    {
      "cell_type": "code",
      "metadata": {
        "id": "P-nWQX5TrkCb",
        "colab_type": "code",
        "colab": {
          "base_uri": "https://localhost:8080/",
          "height": 34
        },
        "outputId": "c8498952-dd0d-4ae9-8f85-49e8da839eb5"
      },
      "source": [
        "lines.shape"
      ],
      "execution_count": 7,
      "outputs": [
        {
          "output_type": "execute_result",
          "data": {
            "text/plain": [
              "(50000, 2)"
            ]
          },
          "metadata": {
            "tags": []
          },
          "execution_count": 7
        }
      ]
    },
    {
      "cell_type": "code",
      "metadata": {
        "id": "yUIj_Oq9m6Ys",
        "colab_type": "code",
        "colab": {
          "base_uri": "https://localhost:8080/",
          "height": 461
        },
        "outputId": "7fe1af80-b972-4575-8b21-0e7c3783fe40"
      },
      "source": [
        "# Lowercase all characters\n",
        "lines.source=lines.source.apply(lambda x: x.lower())\n",
        "lines.target=lines.target.apply(lambda x: x.lower())\n",
        "\n",
        "# Remove quotes\n",
        "lines.source=lines.source.apply(lambda x: re.sub(\"'\", '', x))\n",
        "lines.target=lines.target.apply(lambda x: re.sub(\"'\", '', x))\n",
        "\n",
        "exclude = set(string.punctuation) # Set of all special characters\n",
        "# Remove all the special characters\n",
        "lines.source=lines.source.apply(lambda x: ''.join(ch for ch in x if ch not in exclude))\n",
        "lines.target=lines.target.apply(lambda x: ''.join(ch for ch in x if ch not in exclude))\n",
        "\n",
        "# Remove all numbers from text\n",
        "remove_digits = str.maketrans('', '', digits)\n",
        "lines.source=lines.source.apply(lambda x: x.translate(remove_digits))\n",
        "lines.target=lines.target.apply(lambda x: x.translate(remove_digits))\n",
        "\n",
        "# Remove extra spaces\n",
        "lines.source=lines.source.apply(lambda x: x.strip())\n",
        "lines.target=lines.target.apply(lambda x: x.strip())\n",
        "lines.source=lines.source.apply(lambda x: re.sub(\" +\", \" \", x))\n",
        "lines.target=lines.target.apply(lambda x: re.sub(\" +\", \" \", x))\n",
        "\n",
        "# Add start and end tokens to target sequences\n",
        "lines.target = lines.target.apply(lambda x : 'START_ '+ x + ' _END')\n",
        "\n",
        "lines.sample(10)"
      ],
      "execution_count": 8,
      "outputs": [
        {
          "output_type": "stream",
          "text": [
            "/usr/local/lib/python3.6/dist-packages/pandas/core/generic.py:5303: SettingWithCopyWarning: \n",
            "A value is trying to be set on a copy of a slice from a DataFrame.\n",
            "Try using .loc[row_indexer,col_indexer] = value instead\n",
            "\n",
            "See the caveats in the documentation: https://pandas.pydata.org/pandas-docs/stable/user_guide/indexing.html#returning-a-view-versus-a-copy\n",
            "  self[name] = value\n"
          ],
          "name": "stderr"
        },
        {
          "output_type": "execute_result",
          "data": {
            "text/html": [
              "<div>\n",
              "<style scoped>\n",
              "    .dataframe tbody tr th:only-of-type {\n",
              "        vertical-align: middle;\n",
              "    }\n",
              "\n",
              "    .dataframe tbody tr th {\n",
              "        vertical-align: top;\n",
              "    }\n",
              "\n",
              "    .dataframe thead th {\n",
              "        text-align: right;\n",
              "    }\n",
              "</style>\n",
              "<table border=\"1\" class=\"dataframe\">\n",
              "  <thead>\n",
              "    <tr style=\"text-align: right;\">\n",
              "      <th></th>\n",
              "      <th>source</th>\n",
              "      <th>target</th>\n",
              "    </tr>\n",
              "  </thead>\n",
              "  <tbody>\n",
              "    <tr>\n",
              "      <th>3780</th>\n",
              "      <td>the people are together</td>\n",
              "      <td>START_ a group of several people are attending...</td>\n",
              "    </tr>\n",
              "    <tr>\n",
              "      <th>14391</th>\n",
              "      <td>a crossing guard holds up the flag</td>\n",
              "      <td>START_ a man stands on a crosswalk holding a f...</td>\n",
              "    </tr>\n",
              "    <tr>\n",
              "      <th>45908</th>\n",
              "      <td>a man is outside</td>\n",
              "      <td>START_ a man or older boy is standing up in a ...</td>\n",
              "    </tr>\n",
              "    <tr>\n",
              "      <th>19090</th>\n",
              "      <td>girl holding small house at a table with others</td>\n",
              "      <td>START_ a picture of a girl sitting at a table ...</td>\n",
              "    </tr>\n",
              "    <tr>\n",
              "      <th>45747</th>\n",
              "      <td>a couple of people gathering some produce</td>\n",
              "      <td>START_ two women are outside with a basket pic...</td>\n",
              "    </tr>\n",
              "    <tr>\n",
              "      <th>8298</th>\n",
              "      <td>a girl is playing a game</td>\n",
              "      <td>START_ a little girl is playing the derby game...</td>\n",
              "    </tr>\n",
              "    <tr>\n",
              "      <th>39257</th>\n",
              "      <td>the two dogs are chasing each other</td>\n",
              "      <td>START_ two golden dogs playing with one anothe...</td>\n",
              "    </tr>\n",
              "    <tr>\n",
              "      <th>12709</th>\n",
              "      <td>a woman and children are playing</td>\n",
              "      <td>START_ a woman and children are playing in a w...</td>\n",
              "    </tr>\n",
              "    <tr>\n",
              "      <th>33063</th>\n",
              "      <td>it is sunny</td>\n",
              "      <td>START_ a man sits on a sailboat with the sun s...</td>\n",
              "    </tr>\n",
              "    <tr>\n",
              "      <th>25540</th>\n",
              "      <td>someone is kneeling</td>\n",
              "      <td>START_ one mountaineer is kneeling on the grou...</td>\n",
              "    </tr>\n",
              "  </tbody>\n",
              "</table>\n",
              "</div>"
            ],
            "text/plain": [
              "                                                source                                             target\n",
              "3780                           the people are together  START_ a group of several people are attending...\n",
              "14391               a crossing guard holds up the flag  START_ a man stands on a crosswalk holding a f...\n",
              "45908                                 a man is outside  START_ a man or older boy is standing up in a ...\n",
              "19090  girl holding small house at a table with others  START_ a picture of a girl sitting at a table ...\n",
              "45747        a couple of people gathering some produce  START_ two women are outside with a basket pic...\n",
              "8298                          a girl is playing a game  START_ a little girl is playing the derby game...\n",
              "39257              the two dogs are chasing each other  START_ two golden dogs playing with one anothe...\n",
              "12709                 a woman and children are playing  START_ a woman and children are playing in a w...\n",
              "33063                                      it is sunny  START_ a man sits on a sailboat with the sun s...\n",
              "25540                              someone is kneeling  START_ one mountaineer is kneeling on the grou..."
            ]
          },
          "metadata": {
            "tags": []
          },
          "execution_count": 8
        }
      ]
    },
    {
      "cell_type": "code",
      "metadata": {
        "id": "GaObX-2qnseH",
        "colab_type": "code",
        "colab": {}
      },
      "source": [
        "all_words_source=set()\n",
        "for line in lines.source:\n",
        "    for word in line.split():\n",
        "        if word not in all_words_source:\n",
        "            all_words_source.add(word)\n",
        "\n",
        "all_words_target=set()\n",
        "for line in lines.target:\n",
        "    for word in line.split():\n",
        "        if word not in all_words_target:\n",
        "            all_words_target.add(word)"
      ],
      "execution_count": 9,
      "outputs": []
    },
    {
      "cell_type": "code",
      "metadata": {
        "id": "Gpa0wud0orLE",
        "colab_type": "code",
        "colab": {
          "base_uri": "https://localhost:8080/",
          "height": 34
        },
        "outputId": "99a73b45-e5f5-4688-c3b9-a84cb969fa44"
      },
      "source": [
        "lenght_list=[]\n",
        "for l in lines.source:\n",
        "    lenght_list.append(len(l.split(' ')))\n",
        "max_length_src = np.max(lenght_list)\n",
        "\n",
        "lenght_list=[]\n",
        "for l in lines.target:\n",
        "    lenght_list.append(len(l.split(' ')))\n",
        "max_length_tar = np.max(lenght_list)\n",
        "\n",
        "max_length_src, max_length_tar"
      ],
      "execution_count": 10,
      "outputs": [
        {
          "output_type": "execute_result",
          "data": {
            "text/plain": [
              "(43, 80)"
            ]
          },
          "metadata": {
            "tags": []
          },
          "execution_count": 10
        }
      ]
    },
    {
      "cell_type": "code",
      "metadata": {
        "id": "H_TuBzRXo5V4",
        "colab_type": "code",
        "colab": {
          "base_uri": "https://localhost:8080/",
          "height": 34
        },
        "outputId": "b399fae9-b9e0-4b21-bf2d-23d630872e58"
      },
      "source": [
        "input_words = sorted(list(all_words_source))\n",
        "target_words = sorted(list(all_words_target))\n",
        "\n",
        "num_encoder_tokens = len(all_words_source)\n",
        "num_decoder_tokens = len(all_words_target)\n",
        "\n",
        "num_encoder_tokens, num_decoder_tokens"
      ],
      "execution_count": 11,
      "outputs": [
        {
          "output_type": "execute_result",
          "data": {
            "text/plain": [
              "(8691, 11412)"
            ]
          },
          "metadata": {
            "tags": []
          },
          "execution_count": 11
        }
      ]
    },
    {
      "cell_type": "code",
      "metadata": {
        "id": "nezqLFyzp9WP",
        "colab_type": "code",
        "colab": {
          "base_uri": "https://localhost:8080/",
          "height": 34
        },
        "outputId": "cdc54e72-7d96-4b0c-e42f-4986775b45cc"
      },
      "source": [
        "num_decoder_tokens += 1 # For zero padding\n",
        "num_decoder_tokens"
      ],
      "execution_count": 12,
      "outputs": [
        {
          "output_type": "execute_result",
          "data": {
            "text/plain": [
              "11413"
            ]
          },
          "metadata": {
            "tags": []
          },
          "execution_count": 12
        }
      ]
    },
    {
      "cell_type": "code",
      "metadata": {
        "id": "_NTiCbPUp__T",
        "colab_type": "code",
        "colab": {}
      },
      "source": [
        "input_token_index = dict([(word, i+1) for i, word in enumerate(input_words)])\n",
        "target_token_index = dict([(word, i+1) for i, word in enumerate(target_words)])"
      ],
      "execution_count": 13,
      "outputs": []
    },
    {
      "cell_type": "code",
      "metadata": {
        "id": "K3otYQ_1qI1J",
        "colab_type": "code",
        "colab": {}
      },
      "source": [
        "reverse_input_char_index = dict((i, word) for word, i in input_token_index.items())\n",
        "reverse_target_char_index = dict((i, word) for word, i in target_token_index.items())"
      ],
      "execution_count": 14,
      "outputs": []
    },
    {
      "cell_type": "code",
      "metadata": {
        "id": "VpEE07_qqMRA",
        "colab_type": "code",
        "colab": {
          "base_uri": "https://localhost:8080/",
          "height": 359
        },
        "outputId": "a96d4d82-c131-4db2-d8f0-0bd8d65888e3"
      },
      "source": [
        "lines = shuffle(lines)\n",
        "lines.head(10)"
      ],
      "execution_count": 15,
      "outputs": [
        {
          "output_type": "execute_result",
          "data": {
            "text/html": [
              "<div>\n",
              "<style scoped>\n",
              "    .dataframe tbody tr th:only-of-type {\n",
              "        vertical-align: middle;\n",
              "    }\n",
              "\n",
              "    .dataframe tbody tr th {\n",
              "        vertical-align: top;\n",
              "    }\n",
              "\n",
              "    .dataframe thead th {\n",
              "        text-align: right;\n",
              "    }\n",
              "</style>\n",
              "<table border=\"1\" class=\"dataframe\">\n",
              "  <thead>\n",
              "    <tr style=\"text-align: right;\">\n",
              "      <th></th>\n",
              "      <th>source</th>\n",
              "      <th>target</th>\n",
              "    </tr>\n",
              "  </thead>\n",
              "  <tbody>\n",
              "    <tr>\n",
              "      <th>23767</th>\n",
              "      <td>the girl is wearing a green shirt</td>\n",
              "      <td>START_ a girl in a green shirt with long dark ...</td>\n",
              "    </tr>\n",
              "    <tr>\n",
              "      <th>17679</th>\n",
              "      <td>a person in blue</td>\n",
              "      <td>START_ a small child dressed all in blue for w...</td>\n",
              "    </tr>\n",
              "    <tr>\n",
              "      <th>2389</th>\n",
              "      <td>two motorcyclist racing</td>\n",
              "      <td>START_ two motorcyclist racing on an inclined ...</td>\n",
              "    </tr>\n",
              "    <tr>\n",
              "      <th>42259</th>\n",
              "      <td>people are starting a race</td>\n",
              "      <td>START_ five men wearing black shorts are leavi...</td>\n",
              "    </tr>\n",
              "    <tr>\n",
              "      <th>2644</th>\n",
              "      <td>seven men are working with tools</td>\n",
              "      <td>START_ seven men chipping tiles with hammers _END</td>\n",
              "    </tr>\n",
              "    <tr>\n",
              "      <th>37967</th>\n",
              "      <td>the boy splashed the water</td>\n",
              "      <td>START_ the boy splashed the water _END</td>\n",
              "    </tr>\n",
              "    <tr>\n",
              "      <th>8853</th>\n",
              "      <td>two older men are using binoculars</td>\n",
              "      <td>START_ two older men are wearing outdoor cloth...</td>\n",
              "    </tr>\n",
              "    <tr>\n",
              "      <th>35550</th>\n",
              "      <td>a man and child are sitting</td>\n",
              "      <td>START_ man and child sitting on a front set of...</td>\n",
              "    </tr>\n",
              "    <tr>\n",
              "      <th>48708</th>\n",
              "      <td>a man is looking at a container</td>\n",
              "      <td>START_ man in orange coat stood on a ladder in...</td>\n",
              "    </tr>\n",
              "    <tr>\n",
              "      <th>42528</th>\n",
              "      <td>while looking at the camera a lady who wore an...</td>\n",
              "      <td>START_ a woman wearing an orange scarf smiles ...</td>\n",
              "    </tr>\n",
              "  </tbody>\n",
              "</table>\n",
              "</div>"
            ],
            "text/plain": [
              "                                                  source                                             target\n",
              "23767                  the girl is wearing a green shirt  START_ a girl in a green shirt with long dark ...\n",
              "17679                                   a person in blue  START_ a small child dressed all in blue for w...\n",
              "2389                             two motorcyclist racing  START_ two motorcyclist racing on an inclined ...\n",
              "42259                         people are starting a race  START_ five men wearing black shorts are leavi...\n",
              "2644                    seven men are working with tools  START_ seven men chipping tiles with hammers _END\n",
              "37967                         the boy splashed the water             START_ the boy splashed the water _END\n",
              "8853                  two older men are using binoculars  START_ two older men are wearing outdoor cloth...\n",
              "35550                        a man and child are sitting  START_ man and child sitting on a front set of...\n",
              "48708                    a man is looking at a container  START_ man in orange coat stood on a ladder in...\n",
              "42528  while looking at the camera a lady who wore an...  START_ a woman wearing an orange scarf smiles ..."
            ]
          },
          "metadata": {
            "tags": []
          },
          "execution_count": 15
        }
      ]
    },
    {
      "cell_type": "code",
      "metadata": {
        "id": "j_atfQaWqONe",
        "colab_type": "code",
        "colab": {
          "base_uri": "https://localhost:8080/",
          "height": 34
        },
        "outputId": "284ed5e9-9369-4445-d3e6-7e2d85bb4259"
      },
      "source": [
        "# Train - Test Split\n",
        "X, y = lines.source, lines.target\n",
        "X_train, X_test, y_train, y_test = train_test_split(X, y, test_size = 0.2)\n",
        "X_train.shape, X_test.shape"
      ],
      "execution_count": 16,
      "outputs": [
        {
          "output_type": "execute_result",
          "data": {
            "text/plain": [
              "((40000,), (10000,))"
            ]
          },
          "metadata": {
            "tags": []
          },
          "execution_count": 16
        }
      ]
    },
    {
      "cell_type": "code",
      "metadata": {
        "id": "hL92r0BBqWY5",
        "colab_type": "code",
        "colab": {}
      },
      "source": [
        "X_train.to_pickle('X_train.pkl')\n",
        "X_test.to_pickle('X_test.pkl')"
      ],
      "execution_count": 17,
      "outputs": []
    },
    {
      "cell_type": "code",
      "metadata": {
        "id": "OkkNtT0uqZFI",
        "colab_type": "code",
        "colab": {}
      },
      "source": [
        "def generate_batch(X = X_train, y = y_train, batch_size = 64):\n",
        "    ''' Generate a batch of data '''\n",
        "    while True:\n",
        "        for j in range(0, len(X), batch_size):\n",
        "            encoder_input_data = np.zeros((batch_size, max_length_src),dtype='float32')\n",
        "            decoder_input_data = np.zeros((batch_size, max_length_tar),dtype='float32')\n",
        "            decoder_target_data = np.zeros((batch_size, max_length_tar, num_decoder_tokens),dtype='float32')\n",
        "            for i, (input_text, target_text) in enumerate(zip(X[j:j+batch_size], y[j:j+batch_size])):\n",
        "                for t, word in enumerate(input_text.split()):\n",
        "                    encoder_input_data[i, t] = input_token_index[word] # encoder input seq\n",
        "                for t, word in enumerate(target_text.split()):\n",
        "                    if t<len(target_text.split())-1:\n",
        "                        decoder_input_data[i, t] = target_token_index[word] # decoder input seq\n",
        "                    if t>0:\n",
        "                        # decoder target sequence (one hot encoded)\n",
        "                        # does not include the START_ token\n",
        "                        # Offset by one timestep\n",
        "                        decoder_target_data[i, t - 1, target_token_index[word]] = 1.\n",
        "            yield([encoder_input_data, decoder_input_data], decoder_target_data)"
      ],
      "execution_count": 18,
      "outputs": []
    },
    {
      "cell_type": "markdown",
      "metadata": {
        "id": "m-YxGi_NqhkX",
        "colab_type": "text"
      },
      "source": [
        "# Model"
      ]
    },
    {
      "cell_type": "code",
      "metadata": {
        "id": "qNtR35jJqfP4",
        "colab_type": "code",
        "colab": {}
      },
      "source": [
        "latent_dim = 50"
      ],
      "execution_count": 19,
      "outputs": []
    },
    {
      "cell_type": "code",
      "metadata": {
        "id": "s4O27PJRqk1_",
        "colab_type": "code",
        "colab": {}
      },
      "source": [
        "# Encoder\n",
        "encoder_inputs = Input(shape=(None,))\n",
        "enc_emb =  Embedding(num_encoder_tokens, latent_dim, mask_zero = True)(encoder_inputs)\n",
        "encoder_lstm = LSTM(latent_dim, return_state=True)\n",
        "encoder_outputs, state_h, state_c = encoder_lstm(enc_emb)\n",
        "# We discard `encoder_outputs` and only keep the states.\n",
        "encoder_states = [state_h, state_c]"
      ],
      "execution_count": 20,
      "outputs": []
    },
    {
      "cell_type": "code",
      "metadata": {
        "id": "CFe0HRI9qnvZ",
        "colab_type": "code",
        "colab": {}
      },
      "source": [
        "# Set up the decoder, using `encoder_states` as initial state.\n",
        "decoder_inputs = Input(shape=(None,))\n",
        "dec_emb_layer = Embedding(num_decoder_tokens, latent_dim, mask_zero = True)\n",
        "dec_emb = dec_emb_layer(decoder_inputs)\n",
        "# We set up our decoder to return full output sequences,\n",
        "# and to return internal states as well. We don't use the\n",
        "# return states in the training model, but we will use them in inference.\n",
        "decoder_lstm = LSTM(latent_dim, return_sequences=True, return_state=True)\n",
        "decoder_outputs, _, _ = decoder_lstm(dec_emb,\n",
        "                                     initial_state=encoder_states)\n",
        "decoder_dense = Dense(num_decoder_tokens, activation='softmax')\n",
        "decoder_outputs = decoder_dense(decoder_outputs)\n",
        "\n",
        "# Define the model that will turn\n",
        "# `encoder_input_data` & `decoder_input_data` into `decoder_target_data`\n",
        "model = Model([encoder_inputs, decoder_inputs], decoder_outputs)"
      ],
      "execution_count": 54,
      "outputs": []
    },
    {
      "cell_type": "code",
      "metadata": {
        "id": "P0kvnUXMqpav",
        "colab_type": "code",
        "colab": {}
      },
      "source": [
        "model.compile(optimizer='rmsprop', loss='categorical_crossentropy', metrics=['acc'])"
      ],
      "execution_count": 55,
      "outputs": []
    },
    {
      "cell_type": "code",
      "metadata": {
        "id": "GZUQ_TlZqq6r",
        "colab_type": "code",
        "colab": {
          "base_uri": "https://localhost:8080/",
          "height": 533
        },
        "outputId": "b7a933ce-d4fb-4bfa-c14a-bea41fe7a7b4"
      },
      "source": [
        "keras.utils.plot_model(model, show_shapes=True, show_layer_names=True, expand_nested=True)"
      ],
      "execution_count": 23,
      "outputs": [
        {
          "output_type": "execute_result",
          "data": {
            "image/png": "[encoded data removed]",
            "text/plain": [
              "<IPython.core.display.Image object>"
            ]
          },
          "metadata": {
            "tags": []
          },
          "execution_count": 23
        }
      ]
    },
    {
      "cell_type": "code",
      "metadata": {
        "id": "oZbv3YeOqvhV",
        "colab_type": "code",
        "colab": {}
      },
      "source": [
        "train_samples = len(X_train)\n",
        "val_samples = len(X_test)\n",
        "batch_size = 32\n",
        "epochs = 10"
      ],
      "execution_count": 27,
      "outputs": []
    },
    {
      "cell_type": "code",
      "metadata": {
        "id": "yyCUTjUEq0v7",
        "colab_type": "code",
        "colab": {
          "base_uri": "https://localhost:8080/",
          "height": 374
        },
        "outputId": "50f6dc51-eb0e-4e44-9cce-f58c0ab0bac2"
      },
      "source": [
        "model.fit_generator(generator = generate_batch(X_train, y_train, batch_size = batch_size),\n",
        "                    steps_per_epoch = train_samples//batch_size,\n",
        "                    epochs=epochs,\n",
        "                    validation_data = generate_batch(X_test, y_test, batch_size = batch_size),\n",
        "                    validation_steps = val_samples//batch_size)"
      ],
      "execution_count": 57,
      "outputs": [
        {
          "output_type": "stream",
          "text": [
            "Epoch 1/10\n",
            "1250/1250 [==============================] - 470s 376ms/step - loss: 0.8779 - acc: 0.2045 - val_loss: 0.7916 - val_acc: 0.2780\n",
            "Epoch 2/10\n",
            "1250/1250 [==============================] - 461s 369ms/step - loss: 0.7364 - acc: 0.3005 - val_loss: 0.7154 - val_acc: 0.3117\n",
            "Epoch 3/10\n",
            "1250/1250 [==============================] - 462s 369ms/step - loss: 0.6953 - acc: 0.3235 - val_loss: 0.7276 - val_acc: 0.3280\n",
            "Epoch 4/10\n",
            "1250/1250 [==============================] - 462s 370ms/step - loss: 0.6745 - acc: 0.3375 - val_loss: 0.6909 - val_acc: 0.3389\n",
            "Epoch 5/10\n",
            "1250/1250 [==============================] - 462s 369ms/step - loss: 0.6601 - acc: 0.3475 - val_loss: 0.7557 - val_acc: 0.3468\n",
            "Epoch 6/10\n",
            "1250/1250 [==============================] - 459s 367ms/step - loss: 0.6499 - acc: 0.3558 - val_loss: 0.6676 - val_acc: 0.3530\n",
            "Epoch 7/10\n",
            "1250/1250 [==============================] - 459s 367ms/step - loss: 0.6404 - acc: 0.3627 - val_loss: 0.6397 - val_acc: 0.3573\n",
            "Epoch 8/10\n",
            "1250/1250 [==============================] - 460s 368ms/step - loss: 0.6314 - acc: 0.3685 - val_loss: 0.6740 - val_acc: 0.3605\n",
            "Epoch 9/10\n",
            "1250/1250 [==============================] - 462s 370ms/step - loss: 0.6266 - acc: 0.3736 - val_loss: 0.7633 - val_acc: 0.3638\n",
            "Epoch 10/10\n",
            "1250/1250 [==============================] - 460s 368ms/step - loss: 0.6244 - acc: 0.3785 - val_loss: 0.7535 - val_acc: 0.3665\n"
          ],
          "name": "stdout"
        },
        {
          "output_type": "execute_result",
          "data": {
            "text/plain": [
              "<keras.callbacks.callbacks.History at 0x7f4b3a9c4a20>"
            ]
          },
          "metadata": {
            "tags": []
          },
          "execution_count": 57
        }
      ]
    },
    {
      "cell_type": "code",
      "metadata": {
        "id": "qvEWMSaYRUKv",
        "colab_type": "code",
        "colab": {}
      },
      "source": [
        "history = model.history"
      ],
      "execution_count": 68,
      "outputs": []
    },
    {
      "cell_type": "markdown",
      "metadata": {
        "id": "sf_jEMU2-jjE",
        "colab_type": "text"
      },
      "source": [
        "# Loss and Acc. graph"
      ]
    },
    {
      "cell_type": "code",
      "metadata": {
        "id": "lc37rJvv9KBd",
        "colab_type": "code",
        "colab": {
          "base_uri": "https://localhost:8080/",
          "height": 483
        },
        "outputId": "bf723132-2faa-443d-9f5b-77a870834ece"
      },
      "source": [
        "pd.DataFrame({'loss':history.history['loss'],\n",
        "              'valid_loss':history.history['val_loss'],\n",
        "              }).plot(figsize=(8, 8))\n",
        "plt.grid(True)"
      ],
      "execution_count": 69,
      "outputs": [
        {
          "output_type": "display_data",
          "data": {
            "image/png": "[encoded data removed]",
            "text/plain": [
              "<Figure size 576x576 with 1 Axes>"
            ]
          },
          "metadata": {
            "tags": [],
            "needs_background": "light"
          }
        }
      ]
    },
    {
      "cell_type": "code",
      "metadata": {
        "id": "1pC-PZwl9L5N",
        "colab_type": "code",
        "colab": {
          "base_uri": "https://localhost:8080/",
          "height": 483
        },
        "outputId": "f2f217fb-827e-41d9-9156-5d0eaecd81e4"
      },
      "source": [
        "pd.DataFrame({'acc':history.history['acc'],\n",
        "              'val_acc':history.history['val_acc']\n",
        "              }).plot(figsize=(8, 8))\n",
        "plt.grid(True)\n"
      ],
      "execution_count": 71,
      "outputs": [
        {
          "output_type": "display_data",
          "data": {
            "image/png": "[encoded data removed]",
            "text/plain": [
              "<Figure size 576x576 with 1 Axes>"
            ]
          },
          "metadata": {
            "tags": [],
            "needs_background": "light"
          }
        }
      ]
    },
    {
      "cell_type": "markdown",
      "metadata": {
        "id": "FgzXoBRa-paV",
        "colab_type": "text"
      },
      "source": [
        "# Model Evaluation"
      ]
    },
    {
      "cell_type": "code",
      "metadata": {
        "id": "80gnkcqBuX1x",
        "colab_type": "code",
        "colab": {}
      },
      "source": [
        "model.save_weights('seq2seq_model_weights.h5')"
      ],
      "execution_count": 60,
      "outputs": []
    },
    {
      "cell_type": "code",
      "metadata": {
        "id": "U0jcLf9q8oW2",
        "colab_type": "code",
        "colab": {}
      },
      "source": [
        "model.save('seq2seq_model.h5')"
      ],
      "execution_count": 61,
      "outputs": []
    },
    {
      "cell_type": "code",
      "metadata": {
        "id": "qXKAt-miueXF",
        "colab_type": "code",
        "colab": {}
      },
      "source": [
        "# model = model.load_weights('seq2seq_model_weights.h5')"
      ],
      "execution_count": 62,
      "outputs": []
    },
    {
      "cell_type": "code",
      "metadata": {
        "id": "DfXMV8g7uiBa",
        "colab_type": "code",
        "colab": {}
      },
      "source": [
        "encoder_model = Model(encoder_inputs, encoder_states)\n",
        "\n",
        "decoder_state_input_h = Input(shape=(latent_dim,))\n",
        "decoder_state_input_c = Input(shape=(latent_dim,))\n",
        "decoder_states_inputs = [decoder_state_input_h, decoder_state_input_c]\n",
        "\n",
        "dec_emb2= dec_emb_layer(decoder_inputs)\n",
        "\n",
        "decoder_outputs2, state_h2, state_c2 = decoder_lstm(dec_emb2, initial_state=decoder_states_inputs)\n",
        "decoder_states2 = [state_h2, state_c2]\n",
        "decoder_outputs2 = decoder_dense(decoder_outputs2)\n",
        "\n",
        "decoder_model = Model([decoder_inputs] + decoder_states_inputs,\n",
        "                      [decoder_outputs2] + decoder_states2)"
      ],
      "execution_count": 63,
      "outputs": []
    },
    {
      "cell_type": "code",
      "metadata": {
        "id": "B7nWvMA9uw7b",
        "colab_type": "code",
        "colab": {}
      },
      "source": [
        "def decode_sequence(input_seq):\n",
        "    states_value = encoder_model.predict(input_seq)\n",
        "    target_seq = np.zeros((1,1))\n",
        "    target_seq[0, 0] = target_token_index['START_']\n",
        "    stop_condition = False\n",
        "    decoded_sentence = ''\n",
        "    while not stop_condition:\n",
        "        output_tokens, h, c = decoder_model.predict([target_seq] + states_value)\n",
        "        sampled_token_index = np.argmax(output_tokens[0, -1, :])\n",
        "        sampled_char = reverse_target_char_index[sampled_token_index]\n",
        "        decoded_sentence += ' '+sampled_char\n",
        "        if (sampled_char == '_END' or\n",
        "           len(decoded_sentence) > 50):\n",
        "            stop_condition = True\n",
        "        target_seq = np.zeros((1,1))\n",
        "        target_seq[0, 0] = sampled_token_index\n",
        "        states_value = [h, c]\n",
        "    return decoded_sentence"
      ],
      "execution_count": 64,
      "outputs": []
    },
    {
      "cell_type": "code",
      "metadata": {
        "id": "XsloaizIu0b9",
        "colab_type": "code",
        "colab": {}
      },
      "source": [
        "test_gen = generate_batch(X_test, y_test, batch_size = 1)\n",
        "k=-1"
      ],
      "execution_count": 65,
      "outputs": []
    },
    {
      "cell_type": "code",
      "metadata": {
        "id": "pLZlWsI7u5YK",
        "colab_type": "code",
        "colab": {
          "base_uri": "https://localhost:8080/",
          "height": 68
        },
        "outputId": "ef47f3e8-a4c4-4e6d-da12-d27a322744cd"
      },
      "source": [
        "k+=1\n",
        "(input_seq, actual_output), _ = next(test_gen)\n",
        "decoded_sentence = decode_sequence(input_seq)\n",
        "print('Input:', X_test[k:k+1].values[0])\n",
        "print('Actual:', y_test[k:k+1].values[0][6:-4])\n",
        "print('Predicted:', decoded_sentence[:-4])"
      ],
      "execution_count": 66,
      "outputs": [
        {
          "output_type": "stream",
          "text": [
            "Input: a man is getting help with fitness\n",
            "Actual:  a man getting help with fitness from a physical trainer in a gym \n",
            "Predicted:  a man in a white shirt is working on a stage \n"
          ],
          "name": "stdout"
        }
      ]
    },
    {
      "cell_type": "code",
      "metadata": {
        "id": "xo1xCieR4hnU",
        "colab_type": "code",
        "colab": {
          "base_uri": "https://localhost:8080/",
          "height": 102
        },
        "outputId": "d508c0d5-8ec2-46e9-ba09-4ef359f8fbbb"
      },
      "source": [
        "print(y_test[k:k+1].values[0])\n",
        "print(y_test[k:k+1].values[0][6:-4])\n",
        "print()\n",
        "print(decoded_sentence)\n",
        "print(decoded_sentence[:-4])"
      ],
      "execution_count": 67,
      "outputs": [
        {
          "output_type": "stream",
          "text": [
            "START_ a man getting help with fitness from a physical trainer in a gym _END\n",
            " a man getting help with fitness from a physical trainer in a gym \n",
            "\n",
            " a man in a white shirt is working on a stage _END\n",
            " a man in a white shirt is working on a stage \n"
          ],
          "name": "stdout"
        }
      ]
    },
    {
      "cell_type": "markdown",
      "metadata": {
        "id": "8NCv0T0T-y_w",
        "colab_type": "text"
      },
      "source": [
        "# Blue"
      ]
    },
    {
      "cell_type": "code",
      "metadata": {
        "id": "_CZp4srL7pXw",
        "colab_type": "code",
        "colab": {}
      },
      "source": [
        ""
      ],
      "execution_count": null,
      "outputs": []
    },
    {
      "cell_type": "markdown",
      "metadata": {
        "id": "__L8ceWg-3C8",
        "colab_type": "text"
      },
      "source": [
        "# "
      ]
    }
  ]
}